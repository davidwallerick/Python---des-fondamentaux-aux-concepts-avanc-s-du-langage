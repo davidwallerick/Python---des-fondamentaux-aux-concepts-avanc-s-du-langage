{
 "cells": [
  {
   "cell_type": "markdown",
   "id": "353583d6",
   "metadata": {},
   "source": [
    "<div class=\"licence\">\n",
    "<span>Licence CC BY-NC-ND</span>\n",
    "<span>Thierry Parmentelat &amp; Arnaud Legout</span>\n",
    "<span><img src=\"media/both-logos-small-alpha.png\" /></span>\n",
    "</div>"
   ]
  },
  {
   "cell_type": "markdown",
   "id": "25375c40",
   "metadata": {},
   "source": [
    "# Notions sur la précision des calculs flottants"
   ]
  },
  {
   "cell_type": "markdown",
   "id": "34c322fe",
   "metadata": {},
   "source": [
    "## Complément - niveau avancé"
   ]
  },
  {
   "cell_type": "markdown",
   "id": "9f2f1262",
   "metadata": {},
   "source": [
    "### Le problème"
   ]
  },
  {
   "cell_type": "markdown",
   "id": "1f0e32a5",
   "metadata": {},
   "source": [
    "Comme pour les entiers, les calculs sur les flottants sont, naturellement, réalisés par le processeur. Cependant contrairement au cas des entiers où les calculs sont toujours exacts, les flottants posent un problème de précision. Cela n'est pas propre au langage Python, mais est dû à la technique de codage des nombres flottants sous forme binaire."
   ]
  },
  {
   "cell_type": "markdown",
   "id": "3dd155a3",
   "metadata": {},
   "source": [
    "Voyons tout d'abord comment se matérialise le problème :"
   ]
  },
  {
   "cell_type": "code",
   "execution_count": null,
   "id": "f385ca69",
   "metadata": {},
   "outputs": [],
   "source": [
    "0.2 + 0.4"
   ]
  },
  {
   "cell_type": "markdown",
   "id": "0e36ec7d",
   "metadata": {},
   "source": [
    "Il faut retenir que lorsqu'on écrit un nombre flottant sous forme décimale, la valeur utilisée en mémoire pour représenter ce nombre, parce que cette valeur est codée en binaire, ne représente **pas toujours exactement** le nombre entré."
   ]
  },
  {
   "cell_type": "code",
   "execution_count": null,
   "id": "3e0635b6",
   "metadata": {},
   "outputs": [],
   "source": [
    "# du coup cette expression est fausse, à cause de l'erreur d'arrondi\n",
    "0.3 - 0.1 == 0.2"
   ]
  },
  {
   "cell_type": "markdown",
   "id": "7e0d69c4",
   "metadata": {},
   "source": [
    "Aussi, comme on le voit, les différentes erreurs d'arrondi qui se produisent à chaque étape du calcul s'accumulent et produisent un résultat parfois surprenant. De nouveau, ce problème n'est pas spécifique à Python, il existe pour tous les langages, et il est bien connu des numériciens."
   ]
  },
  {
   "cell_type": "markdown",
   "id": "0a3077c6",
   "metadata": {},
   "source": [
    "Dans une grande majorité des cas, ces erreurs d'arrondi ne sont pas pénalisantes. Il faut toutefois en être conscient car cela peut expliquer des comportements curieux."
   ]
  },
  {
   "cell_type": "markdown",
   "id": "5c74eaf6",
   "metadata": {},
   "source": [
    "### Une solution : penser en termes de nombres rationnels"
   ]
  },
  {
   "cell_type": "markdown",
   "id": "a2a599ca",
   "metadata": {},
   "source": [
    "Tout d'abord si votre problème se pose bien en termes de nombres rationnels, il est alors tout à fait possible de le résoudre avec exactitude."
   ]
  },
  {
   "cell_type": "markdown",
   "id": "af790060",
   "metadata": {},
   "source": [
    "Alors qu'il n'est pas possible d'écrire exactement $3/10$ en base 2, ni d'ailleurs $1/3$ en base 10, on peut représenter **exactement** ces nombres dès lors qu'on les considère comme des fractions et qu'on les encode avec deux nombres entiers."
   ]
  },
  {
   "cell_type": "markdown",
   "id": "0a0b9444",
   "metadata": {},
   "source": [
    "Python fournit en standard le module `fractions` qui permet de résoudre le problème. Voici comment on pourrait l'utiliser pour vérifier, cette fois avec succès, que $0.3 - 0.1$ vaut bien $0.2$. Ce code anticipe sur l'utilisation des modules et des classes en Python, ici nous créons des objets de type `Fraction` :"
   ]
  },
  {
   "cell_type": "code",
   "execution_count": null,
   "id": "f7f19a8e",
   "metadata": {},
   "outputs": [],
   "source": [
    "# on importe le module fractions, qui lui-même définit le symbole Fraction\n",
    "from fractions import Fraction\n",
    "\n",
    "# et cette fois, les calculs sont exacts, et l'expression retourne bien True\n",
    "Fraction(3, 10) - Fraction(1, 10) == Fraction(2, 10)"
   ]
  },
  {
   "cell_type": "markdown",
   "id": "49cf60db",
   "metadata": {},
   "source": [
    "Ou encore d'ailleurs, équivalent et plus lisible :"
   ]
  },
  {
   "cell_type": "code",
   "execution_count": null,
   "id": "e90f30c4",
   "metadata": {},
   "outputs": [],
   "source": [
    "Fraction('0.3') - Fraction('0.1') == Fraction('2/10')"
   ]
  },
  {
   "cell_type": "markdown",
   "id": "f7b7ba67",
   "metadata": {},
   "source": [
    "### Une autre solution : le module decimal"
   ]
  },
  {
   "cell_type": "markdown",
   "id": "c64bbc8c",
   "metadata": {},
   "source": [
    "Si par contre vous ne manipulez pas des nombres rationnels et que du coup la représentation sous forme de fractions ne peut pas convenir dans votre cas, signalons l'existence du module standard `decimal` qui offre des fonctionnalités très voisines du type `float`, tout en éliminant la plupart des inconvénients, au prix naturellement d'une consommation mémoire supérieure."
   ]
  },
  {
   "cell_type": "markdown",
   "id": "21c9b4a0",
   "metadata": {},
   "source": [
    "Pour reprendre l'exemple de départ, mais en utilisant le module decimal, on écrirait alors :"
   ]
  },
  {
   "cell_type": "code",
   "execution_count": null,
   "id": "185840f6",
   "metadata": {},
   "outputs": [],
   "source": [
    "from decimal import Decimal\n",
    "\n",
    "Decimal('0.3') - Decimal('0.1') == Decimal('0.2')"
   ]
  },
  {
   "cell_type": "markdown",
   "id": "1158107f",
   "metadata": {},
   "source": [
    "### Pour aller plus loin"
   ]
  },
  {
   "cell_type": "markdown",
   "id": "1b9f51c5",
   "metadata": {},
   "source": [
    "Tous ces documents sont en anglais :\n",
    "\n",
    "* un [tutoriel sur les nombres flottants](https://docs.python.org/3/tutorial/floatingpoint.html) ;\n",
    "* la [documentation sur la classe Fraction](https://docs.python.org/3/library/fractions.html) ;\n",
    "* la [documentation sur la classe Decimal](https://docs.python.org/3/library/decimal.html) ;\n",
    "* une [présentation plus fouillée sur l'encodage des flottants (en anglais)](http://mathcenter.oxford.emory.edu/site/cs170/ieee754/) ; ce dernier document, très bien fait, ne dépend pas du langage Python mais illustre le standard IEE-754 sur des exemples concrets."
   ]
  }
 ],
 "metadata": {
  "jupytext": {
   "cell_metadata_filter": "all, -hidden, -heading_collapsed, -run_control, -trusted",
   "notebook_metadata_filter": "all, -jupytext.text_representation.jupytext_version, -jupytext.text_representation.format_version, -language_info.version, -language_info.codemirror_mode.version, -language_info.codemirror_mode, -language_info.file_extension, -language_info.mimetype, -toc",
   "text_representation": {
    "extension": ".md",
    "format_name": "myst"
   }
  },
  "kernelspec": {
   "display_name": "Python 3 (ipykernel)",
   "language": "python",
   "name": "python3"
  },
  "language_info": {
   "name": "python",
   "nbconvert_exporter": "python",
   "pygments_lexer": "ipython3"
  },
  "nbhosting": {
   "title": "Calculs flottants"
  }
 },
 "nbformat": 4,
 "nbformat_minor": 5
}

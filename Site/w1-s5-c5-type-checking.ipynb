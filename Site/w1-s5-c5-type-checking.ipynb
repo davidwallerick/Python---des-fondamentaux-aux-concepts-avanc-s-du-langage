{
 "cells": [
  {
   "cell_type": "markdown",
   "id": "1bedc7e6",
   "metadata": {},
   "source": [
    "<div class=\"licence\">\n",
    "<span>Licence CC BY-NC-ND</span>\n",
    "<span>Thierry Parmentelat &amp; Arnaud Legout</span>\n",
    "<span><img src=\"media/both-logos-small-alpha.png\" /></span>\n",
    "</div>"
   ]
  },
  {
   "cell_type": "markdown",
   "id": "a1bd1879",
   "metadata": {},
   "source": [
    "# Typages statique et dynamique"
   ]
  },
  {
   "cell_type": "markdown",
   "id": "b505ef77",
   "metadata": {},
   "source": [
    "## Complément - niveau intermédiaire"
   ]
  },
  {
   "cell_type": "markdown",
   "id": "c307528e",
   "metadata": {},
   "source": [
    "Parmi les langages typés, on distingue les langages à typage statique et ceux à typage dynamique. Ce notebook tente d'éclaircir ces notions pour ceux qui n'y sont pas familiers."
   ]
  },
  {
   "cell_type": "markdown",
   "id": "fc61e4a7",
   "metadata": {},
   "source": [
    "### Typage statique"
   ]
  },
  {
   "cell_type": "markdown",
   "id": "8c4d428c",
   "metadata": {},
   "source": [
    "À une extrémité du spectre, on trouve les langages compilés, dits à typage statique, comme par exemple C ou C++.\n",
    "\n",
    "En C on écrira, par exemple, une version simpliste de la fonction factoriel comme ceci :"
   ]
  },
  {
   "cell_type": "markdown",
   "id": "70d04409",
   "metadata": {},
   "source": [
    "```C\n",
    "int factoriel(int n) {\n",
    "    int result = 1;\n",
    "    for (int loop = 1; loop <= n; loop++)\n",
    "        result *= loop;\n",
    "    return result;\n",
    "}\n",
    "```"
   ]
  },
  {
   "cell_type": "markdown",
   "id": "8ccff609",
   "metadata": {},
   "source": [
    "Comme vous pouvez le voir - ou le deviner - toutes les **variables** utilisées ici (comme par exemple `n`, `result` et `loop`) sont typées :\n",
    "\n",
    "* on doit appeler `factoriel` avec un argument `n` qui doit être un entier (`int` est le nom du type entier) ;\n",
    "* les variables internes `result` et `loop` sont de type entier ;\n",
    "* `factoriel` retourne une valeur de type entier."
   ]
  },
  {
   "cell_type": "markdown",
   "id": "5ba7f780",
   "metadata": {},
   "source": [
    "Ces informations de type ont essentiellement trois fonctions :\n",
    "\n",
    "* en premier lieu, elles sont nécessaires au compilateur. En C si le programmeur ne précisait pas que `result` est de type entier, le compilateur n'aurait pas suffisamment d'éléments pour générer le code assembleur correspondant ;\n",
    "* en contrepartie, le programmeur a un contrôle très fin de l'usage qu'il fait de la mémoire et du matériel. Il peut choisir d'utiliser un entier sur 32 ou 64 bits, signé ou pas, ou construire avec `struct` et `union` un arrangement de ses données ;\n",
    "* enfin, et surtout, ces informations de type permettent de faire un contrôle *a priori* de la validité du programme, par exemple, si à un autre endroit dans le code on trouve :"
   ]
  },
  {
   "cell_type": "markdown",
   "id": "6e962892",
   "metadata": {},
   "source": [
    "```C\n",
    "#include <stdio.h>\n",
    "\n",
    "int main(int argc, char *argv[]) {\n",
    "    /* le premier argument de la ligne de commande est argv[1] */\n",
    "    char *input = argv[1];\n",
    "    /* calculer son factoriel et afficher le résultat */\n",
    "    printf(\"Factoriel (%s) = %d\\n\", input, factoriel(input));\n",
    "    /*                                               ^^^^^\n",
    "\n",
    "     * ici on appelle factoriel avec une entrée de type 'chaîne de caractères' */\n",
    "}\n",
    "```"
   ]
  },
  {
   "cell_type": "markdown",
   "id": "1056e753",
   "metadata": {},
   "source": [
    "alors le compilateur va remarquer qu'on essaie d'appeler `factoriel` avec comme argument `input` qui, pour faire simple, est une chaîne de caractères et comme `factoriel` s'attend à recevoir un entier, ce programme n'a aucune chance de compiler.\n",
    "\n",
    "On parle alors de **typage statique**, en ce sens que chaque **variable** a exactement un type qui est défini par le programmeur une bonne fois pour toutes."
   ]
  },
  {
   "cell_type": "markdown",
   "id": "12e9c60d",
   "metadata": {},
   "source": [
    "C'est ce qu'on appelle le **contrôle de type**, ou *type-checking* en anglais. Si on ignore le point sur le contrôle fin de la mémoire, qui n'est pas crucial à notre sujet, ce modèle de contrôle de type présente&nbsp;:\n",
    "\n",
    "* l'**inconvénient** de demander davantage au programmeur (je fais abstraction, à ce stade et pour simplifier, de [langages à inférence de types](https://en.wikipedia.org/wiki/Type_inference) comme ML et Haskell) ;\n",
    "* et l'**avantage** de permettre un contrôle étendu, et surtout précoce (avant même de l'exécuter), de la bonne correction du programme."
   ]
  },
  {
   "cell_type": "markdown",
   "id": "31a4bd4b",
   "metadata": {},
   "source": [
    "Cela étant dit, le typage statique en C n'empêche pas le programmeur débutant d'essayer d'écrire dans la mémoire à partir d'un pointeur `NULL` - et le programme de s'interrompre brutalement. Il faut être conscient des limites du typage statique."
   ]
  },
  {
   "cell_type": "markdown",
   "id": "cfa467c8",
   "metadata": {},
   "source": [
    "### Typage dynamique"
   ]
  },
  {
   "cell_type": "markdown",
   "id": "0f9166c5",
   "metadata": {},
   "source": [
    "À l'autre bout du spectre, on trouve des langages comme, eh bien, Python."
   ]
  },
  {
   "cell_type": "markdown",
   "id": "295028a7",
   "metadata": {},
   "source": [
    "Pour comprendre cette notion de typage dynamique, regardons la fonction suivante `somme`."
   ]
  },
  {
   "cell_type": "code",
   "execution_count": null,
   "id": "ede54f64",
   "metadata": {},
   "outputs": [],
   "source": [
    "def somme(*largs):\n",
    "    \"retourne la somme de tous ses arguments\"\n",
    "    if not largs:\n",
    "        return 0\n",
    "    result = largs[0]\n",
    "    for i in range(1, len(largs)):\n",
    "        result += largs[i]\n",
    "    return result"
   ]
  },
  {
   "cell_type": "markdown",
   "id": "9687cf0d",
   "metadata": {},
   "source": [
    "Naturellement, vous n'êtes pas à ce stade en mesure de comprendre le fonctionnement intime de la fonction. Mais vous pouvez tout de même l'utiliser :"
   ]
  },
  {
   "cell_type": "code",
   "execution_count": null,
   "id": "f5c55a5a",
   "metadata": {},
   "outputs": [],
   "source": [
    "somme(12, 14, 300)"
   ]
  },
  {
   "cell_type": "code",
   "execution_count": null,
   "id": "2ff572ec",
   "metadata": {},
   "outputs": [],
   "source": [
    "liste1 = ['a', 'b', 'c']\n",
    "liste2 = [0, 20, 30]\n",
    "liste3 = ['spam', 'eggs']\n",
    "somme(liste1, liste2, liste3)"
   ]
  },
  {
   "cell_type": "markdown",
   "id": "ac02accf",
   "metadata": {},
   "source": [
    "Vous pouvez donc constater que `somme` peut fonctionner avec des objets de types\n",
    "différents: on peut lui passer des nombres, ou lui passer des listes. En fait,\n",
    "telle qu'elle est écrite, elle va fonctionner s'il est possible de faire `+`\n",
    "entre ses arguments. Ainsi, par exemple, on pourrait même faire :"
   ]
  },
  {
   "cell_type": "code",
   "execution_count": null,
   "id": "0299e353",
   "metadata": {},
   "outputs": [],
   "source": [
    "# Python sait faire + entre deux chaînes de caractères\n",
    "somme('abc', 'def')"
   ]
  },
  {
   "cell_type": "markdown",
   "id": "27bdf904",
   "metadata": {},
   "source": [
    "Mais par contre on ne pourrait pas faire"
   ]
  },
  {
   "cell_type": "code",
   "execution_count": null,
   "id": "f7750494",
   "metadata": {},
   "outputs": [],
   "source": [
    "# ceci va déclencher une exception à l'exécution\n",
    "somme(12, [1, 2, 3])"
   ]
  },
  {
   "cell_type": "markdown",
   "id": "d6f0755a",
   "metadata": {},
   "source": [
    "Il est utile de remarquer que le typage de Python, qui existe bel et bien comme on le verra, est qualifié de dynamique parce que le type est attaché **à un objet** et non à la variable qui le référence. On aura bien entendu l'occasion d'approfondir tout ça dans le cours."
   ]
  },
  {
   "cell_type": "markdown",
   "id": "fa110ae3",
   "metadata": {},
   "source": [
    "En Python, on fait souvent référence au typage sous l'appellation *duck typing*, de manière imagée :\n",
    "\n",
    "> If it looks like a duck and quacks like a duck, it's a duck."
   ]
  },
  {
   "cell_type": "markdown",
   "id": "4bff22fa",
   "metadata": {},
   "source": [
    "On voit qu'on se trouve dans une situation très différente de celle du programmeur C/C++, en ce sens que&nbsp;:\n",
    "\n",
    "* à l'écriture du programme, il n'y aucun des surcoûts qu'on trouve avec C ou C++ en matière de définition de type ;\n",
    "* aucun contrôle de type n'est effectué *a priori* par le langage au moment de la définition de la fonction `somme` ;\n",
    "* par contre au moment de l'exécution, s'il s'avère qu'on tente de faire une somme entre deux types qui ne peuvent pas être additionnés, comme ci-dessus avec un entier et une liste, le programme ne pourra pas se dérouler correctement."
   ]
  },
  {
   "cell_type": "markdown",
   "id": "82e4dcaa",
   "metadata": {},
   "source": [
    "Il y a deux points de vue vis-à-vis de la question du typage.\n",
    "\n",
    "Les gens habitués au *typage statique* se plaignent du typage dynamique en disant qu'on peut écrire des programmes faux et qu'on s'en rend compte trop tard - à l'exécution.\n",
    "\n",
    "À l'inverse les gens habitués au *typage dynamique* font valoir que le typage statique est très partiel, par exemple, en C si on essaie d'écrire dans un pointeur `NULL`, le système d'exploitation ne le permet pas et le programme sort tout aussi brutalement."
   ]
  },
  {
   "cell_type": "markdown",
   "id": "308ba002",
   "metadata": {},
   "source": [
    "Bref, selon le point de vue, le typage dynamique est vécu comme un inconvénient (pas assez de bonnes propriétés détectées par le langage) ou comme un avantage (pas besoin de passer du temps à déclarer le type des variables, ni à faire des conversions pour satisfaire le compilateur). \n",
    "\n",
    "Vous remarquerez cependant à l'usage, qu'en matière de vitesse de développement, les inconvénients du typage dynamique sont très largement compensés par ses avantages."
   ]
  },
  {
   "cell_type": "markdown",
   "id": "4eaeba02",
   "metadata": {},
   "source": [
    "### *Type hints*"
   ]
  },
  {
   "cell_type": "markdown",
   "id": "4cbee643",
   "metadata": {},
   "source": [
    "Signalons enfin que depuis python-3.5, il est **possible** d'ajouter des annotations de type, pour expliciter les suppositions qui sont faites par le programmeur pour le bon fonctionnement du code.\n",
    "\n",
    "Nous aurons là encore l'occasion de détailler ce point dans le cours, signalons simplement que ces annotations sont totalement optionnelles, et que même lorsqu'elles sont présentes elles ne sont pas utilisées à l'exécution par l'interpréteur. L'idée est plutôt de permettre à des outils externes, [comme  par exemple `mypy`](http://www.mypy-lang.org), d'effectuer des contrôles plus poussés concernant la correction du programme."
   ]
  }
 ],
 "metadata": {
  "jupytext": {
   "cell_metadata_filter": "all, -hidden, -heading_collapsed, -run_control, -trusted",
   "notebook_metadata_filter": "all, -jupytext.text_representation.jupytext_version, -jupytext.text_representation.format_version, -language_info.version, -language_info.codemirror_mode.version, -language_info.codemirror_mode, -language_info.file_extension, -language_info.mimetype, -toc",
   "text_representation": {
    "extension": ".md",
    "format_name": "myst"
   }
  },
  "kernelspec": {
   "display_name": "Python 3 (ipykernel)",
   "language": "python",
   "name": "python3"
  },
  "language_info": {
   "name": "python",
   "nbconvert_exporter": "python",
   "pygments_lexer": "ipython3"
  },
  "nbhosting": {
   "title": "type-checking"
  }
 },
 "nbformat": 4,
 "nbformat_minor": 5
}

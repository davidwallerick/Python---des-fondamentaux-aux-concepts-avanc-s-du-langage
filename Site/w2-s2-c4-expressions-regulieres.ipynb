{
 "cells": [
  {
   "cell_type": "markdown",
   "id": "e8757b00",
   "metadata": {},
   "source": [
    "<div class=\"licence\">\n",
    "<span>Licence CC BY-NC-ND</span>\n",
    "<span>Thierry Parmentelat &amp; Arnaud Legout</span>\n",
    "<span><img src=\"media/both-logos-small-alpha.png\" /></span>\n",
    "</div>"
   ]
  },
  {
   "cell_type": "markdown",
   "id": "14f4d20f",
   "metadata": {},
   "source": [
    "# Expressions régulières et le module `re`"
   ]
  },
  {
   "cell_type": "markdown",
   "id": "20a92baf",
   "metadata": {},
   "source": [
    "## Complément - niveau basique"
   ]
  },
  {
   "cell_type": "markdown",
   "id": "722f41c9",
   "metadata": {},
   "source": [
    "### Avertissement\n",
    "\n",
    "Après avoir joué ce cours plusieurs années de suite, l'expérience nous montre qu'il est difficile de trouver le bon moment pour appréhender les expressions régulières.\n",
    "\n",
    "D'un côté il s'agit de manipulations de chaînes de caractères, mais d'un autre cela nécessite de créer des instances de classes, et donc d'avoir vu la programmation orientée objet.\n",
    "Du coup, les premières années nous les avions étudiées tout à la fin du cours, ce qui avait pu créer une certaine frustration.\n",
    "\n",
    "C'est pourquoi nous avons décidé à présent de les étudier très tôt, dans cette séquence consacrée aux chaines de caractères. Les étudiants qui seraient décontenancés par ce contenu sont invités à y retourner après la semaine 6, consacrée à la programmation objet. \n",
    "\n",
    "Il nous semble important de savoir que ces fonctionnalités existent dans le langage, le détail de leur utilisation n'est toutefois pas critique, et on peut parfaitement faire l'impasse sur ce complément en première lecture."
   ]
  },
  {
   "cell_type": "markdown",
   "id": "eae4902d",
   "metadata": {},
   "source": [
    "Une expression régulière est un objet mathématique permettant de décrire un ensemble de textes qui possèdent des propriétés communes. Par exemple, s'il vous arrive d'utiliser un terminal, et que vous tapez\n",
    "\n",
    "```bash\n",
    "$ dir *.txt\n",
    "```\n",
    "\n",
    "(ou `ls *.txt` sur linux ou mac), vous utilisez l'expression régulière `*.txt` qui désigne tous les fichiers dont le nom se termine par `.txt`. On dit que l'expression régulière *filtre* toutes les chaînes qui se terminent par `.txt` (l'expression anglaise consacrée est le *pattern matching*).\n",
    "\n",
    "Attention toutefois, la syntaxe des expressions régulières en Python est plus complexe que les expressions de *globbing* utilisées dans les lignes de commande, mais permet en contrepartie de faire bien plus de choses. Notamment, le *globbing* `*.txt` que nous avons utilisé plus haut deviendrait `.*\\.txt` dans une expression régulière Python (le point `.` et l'astérisque `*` ayant des significations particulières et différentes de celles du *globbing*)."
   ]
  },
  {
   "cell_type": "markdown",
   "id": "dc58715d",
   "metadata": {},
   "source": [
    "Le langage Perl a été le premier à populariser l'utilisation des expressions régulières en les supportant nativement dans le langage, et non au travers d'une librairie. En python, les expressions régulières sont disponibles de manière plus traditionnelle, via le module `re` (regular expressions) de la librairie standard.\n",
    "Le propos de ce complément est de vous en donner une première introduction."
   ]
  },
  {
   "cell_type": "code",
   "execution_count": null,
   "id": "8714ccf4",
   "metadata": {},
   "outputs": [],
   "source": [
    "import re"
   ]
  },
  {
   "cell_type": "markdown",
   "id": "1f45b7bc",
   "metadata": {},
   "source": [
    "### Survol"
   ]
  },
  {
   "cell_type": "markdown",
   "id": "7af78721",
   "metadata": {},
   "source": [
    "Pour ceux qui ne souhaitent pas approfondir, voici un premier exemple; on cherche à savoir si un objet `chaine` est ou non de la forme `*-*.txt`, et si oui, à calculer la partie de la chaine qui remplace le `*` :"
   ]
  },
  {
   "cell_type": "code",
   "execution_count": null,
   "id": "44a545f9",
   "metadata": {},
   "outputs": [],
   "source": [
    "# un objet 'expression régulière' - on dit aussi \"pattern\"\n",
    "regexp = \"(.*)-(.*)\\.txt\""
   ]
  },
  {
   "cell_type": "code",
   "execution_count": null,
   "id": "01e65c78",
   "metadata": {},
   "outputs": [],
   "source": [
    "# la chaine de départ\n",
    "chaine = \"abcdef.txt\""
   ]
  },
  {
   "cell_type": "code",
   "execution_count": null,
   "id": "8c3c9777",
   "metadata": {},
   "outputs": [],
   "source": [
    "# la fonction qui calcule si la chaine \"matche\" le pattern\n",
    "match = re.match(regexp, chaine)\n",
    "match is None"
   ]
  },
  {
   "cell_type": "markdown",
   "id": "40841a2b",
   "metadata": {},
   "source": [
    "Le fait que l'objet `match` vaut `None` indique que la chaine n'est pas de la bonne forme (il manque un `-` dans le nom); avec une autre chaine par contre :"
   ]
  },
  {
   "cell_type": "code",
   "execution_count": null,
   "id": "ad41da61",
   "metadata": {},
   "outputs": [],
   "source": [
    "# la chaine de départ\n",
    "chaine = \"abc-def.txt\""
   ]
  },
  {
   "cell_type": "code",
   "execution_count": null,
   "id": "f3af1d5b",
   "metadata": {},
   "outputs": [],
   "source": [
    "match = re.match(regexp, chaine)\n",
    "match is None"
   ]
  },
  {
   "cell_type": "markdown",
   "id": "8a9a82c8",
   "metadata": {},
   "source": [
    "Ici `match` est un objet, qui nous permet ensuite d'\"extraire\" les différentes parties, comme ceci :"
   ]
  },
  {
   "cell_type": "code",
   "execution_count": null,
   "id": "92844f5c",
   "metadata": {
    "cell_style": "split"
   },
   "outputs": [],
   "source": [
    "match[1]"
   ]
  },
  {
   "cell_type": "code",
   "execution_count": null,
   "id": "59ff8fc5",
   "metadata": {
    "cell_style": "split"
   },
   "outputs": [],
   "source": [
    "match[2]"
   ]
  },
  {
   "cell_type": "markdown",
   "id": "e11bf50a",
   "metadata": {},
   "source": [
    "Bien sûr on peut faire des choses beaucoup plus élaborées avec `re`, mais en première lecture cette introduction doit vous suffire pour avoir une idée de ce qu'on peut faire avec les expressions régulières."
   ]
  },
  {
   "cell_type": "markdown",
   "id": "774b81bc",
   "metadata": {},
   "source": [
    "**Synonymes**\n",
    "\n",
    "Avant d'aller plus loin signalons qu'on utilise indifféremment les termes pour désigner essentiellement la même chose :\n",
    "\n",
    "* **expression régulière**\n",
    "* en anglais ***regular expression*** - d'où le nom du module dans `import re`\n",
    "* en anglais raccourci ***regexp***, c'est *de facto* devenu un nom commun\n",
    "* en français on trouve aussi parfois le terme d'**expression rationnelle**, c'est plus rare et un peu pédant\n",
    "* en anglais on utilise aussi facilement le terme de ***pattern***\n",
    "* qui du coup a été traduit en français par **motif**; bon ça c'est d'un emploi assez rare.\n",
    "\n",
    "Après selon les contextes ces termes peuvent être utilisés pour désigner des choses subtilement différentes - par exemple pour distinguer la chaine qui spécifie un **pattern** de l'objet **regexp** qui en est déduit; mais à ce stade de la présentation on peut signaler tous ces termes et les assimiler en gros à la même notion."
   ]
  },
  {
   "cell_type": "markdown",
   "id": "017d3e84",
   "metadata": {},
   "source": [
    "## Complément - niveau intermédiaire"
   ]
  },
  {
   "cell_type": "markdown",
   "id": "0ad886f3",
   "metadata": {},
   "source": [
    "Approfondissons à présent:"
   ]
  },
  {
   "cell_type": "markdown",
   "id": "9b510d78",
   "metadata": {},
   "source": [
    "Dans un terminal, `*.txt` est une expression régulière très simple. Le module `re` fournit le moyen de construire des expressions régulières très élaborées et plus puissantes que ce que supporte le terminal. C'est pourquoi la syntaxe des regexps de `re` est un peu différente. Par exemple comme on vient de le voir, pour filtrer la même famille de chaînes que `*-*.txt` avec le module `re`, il nous a fallu écrire l'expression régulière sous une forme légèrement différente."
   ]
  },
  {
   "cell_type": "markdown",
   "id": "e7648cce",
   "metadata": {},
   "source": [
    "Je vous conseille d'avoir sous la main la [documentation du module `re`](https://docs.python.org/3/library/re.html) pendant que vous lisez ce complément."
   ]
  },
  {
   "cell_type": "markdown",
   "id": "6892f158",
   "metadata": {},
   "source": [
    "### Avertissement"
   ]
  },
  {
   "cell_type": "markdown",
   "id": "19a80f06",
   "metadata": {},
   "source": [
    "Dans ce complément nous serons amenés à utiliser des traits qui dépendent du LOCALE, c'est-à-dire, pour faire simple, de la configuration de l'ordinateur vis-à-vis de la langue. \n",
    "\n",
    "Tant que vous exécutez ceci dans le notebook sur la plateforme, en principe tout le monde verra exactement la même chose. Par contre, si vous faites tourner le même code sur votre ordinateur, il se peut que vous obteniez des résultats légèrement différents."
   ]
  },
  {
   "cell_type": "markdown",
   "id": "1f6e4bd1",
   "metadata": {},
   "source": [
    "### Un exemple simple"
   ]
  },
  {
   "cell_type": "markdown",
   "id": "b91c52a4",
   "metadata": {},
   "source": [
    "##### `findall`"
   ]
  },
  {
   "cell_type": "markdown",
   "id": "9248d215",
   "metadata": {},
   "source": [
    "On se donne deux exemples de chaînes"
   ]
  },
  {
   "cell_type": "code",
   "execution_count": null,
   "id": "9cac9152",
   "metadata": {},
   "outputs": [],
   "source": [
    "sentences = ['Lacus a donec, vitae gravida proin sociis.', \n",
    "             'Neque ipsum! rhoncus cras quam.']"
   ]
  },
  {
   "cell_type": "markdown",
   "id": "a3dfe924",
   "metadata": {},
   "source": [
    "On peut **chercher tous** les mots se terminant par `a` ou `m` dans une chaîne avec `findall`"
   ]
  },
  {
   "cell_type": "code",
   "execution_count": null,
   "id": "b6e2aa46",
   "metadata": {},
   "outputs": [],
   "source": [
    "for sentence in sentences:\n",
    "    print(f\"---- dans >{sentence}<\")\n",
    "    print(re.findall(r\"\\w*[am]\\W\", sentence))"
   ]
  },
  {
   "cell_type": "markdown",
   "id": "4ebf8c5a",
   "metadata": {},
   "source": [
    "Ce code permet de chercher toutes (`findall`) les occurrences de l'expression régulière, qui ici est définie par la chaine :\n",
    "\n",
    "```python\n",
    "r\"\\w*[am]\\W\"\n",
    "```"
   ]
  },
  {
   "cell_type": "markdown",
   "id": "56bfe142",
   "metadata": {},
   "source": [
    "#### digression : les *raw-strings* \n",
    "\n",
    "Pour anticiper un peu, signalons que cette façon de créer un chaine en la préfixant par un `r` s'appelle une ***raw-string***; l'intérêt c'est de **ne pas interpréter les backslashs `\\`**\n",
    "\n",
    "On voit tout de suite l'intérêt sur un exemple :"
   ]
  },
  {
   "cell_type": "code",
   "execution_count": null,
   "id": "0ef341ca",
   "metadata": {
    "cell_style": "split"
   },
   "outputs": [],
   "source": [
    "print(\"sans raw-string\\nun newline\")"
   ]
  },
  {
   "cell_type": "code",
   "execution_count": null,
   "id": "42851db4",
   "metadata": {
    "cell_style": "split"
   },
   "outputs": [],
   "source": [
    "print(r\"dans\\nunraw-string\")"
   ]
  },
  {
   "cell_type": "markdown",
   "id": "6702c210",
   "metadata": {},
   "source": [
    "Comme vous le voyez dans une chaine \"normale\" les caractères backslash ont une signification particulière; mais nous ce qu'on veut faire, quand on crée une expression régulière, c'est de **laisser les backslashs** intacts, car c'est à la couche de regexp de les interpréter."
   ]
  },
  {
   "cell_type": "markdown",
   "id": "37f15cb1",
   "metadata": {},
   "source": [
    "#### reprenons\n",
    "\n",
    "Nous verrons tout à l'heure comment fabriquer des expressions régulières plus en détail, mais pour démystifier au moins celle-ci, on a mis bout à bout les morceaux suivants.\n",
    "\n",
    " * `\\w*` : on veut trouver une sous-chaîne qui commence par un nombre quelconque, y compris nul (`*`) de caractères alphanumériques (`\\w`). Ceci est défini en fonction de votre LOCALE, on y reviendra.\n",
    " * `[am]` : immédiatement après, il nous faut trouver un caratère `a` ou `m`.\n",
    " * `\\W` : et enfin, il nous faut un caractère qui ne soit **pas** alphanumérique. Ceci est important puisqu'on cherche les mots qui **se terminent** par un `a` ou un `m`, si on ne le mettait pas on obtiendrait ceci"
   ]
  },
  {
   "cell_type": "code",
   "execution_count": null,
   "id": "791f75e1",
   "metadata": {},
   "outputs": [],
   "source": [
    "# le \\W final est important\n",
    "# voici ce qu'on obtient si on l'omet\n",
    "for sentence in sentences:\n",
    "    print(f\"---- dans >{sentence}<\")\n",
    "    print(re.findall(r\"\\w*[am]\", sentence))\n",
    "    \n",
    "# NB: Comme vous le devinez, ici la notation for ... in ... \n",
    "# permet de parcourir successivement tous les éléments de la séquence"
   ]
  },
  {
   "cell_type": "markdown",
   "id": "c2fc9ad5",
   "metadata": {},
   "source": [
    "##### `split`"
   ]
  },
  {
   "cell_type": "markdown",
   "id": "2c364e1a",
   "metadata": {},
   "source": [
    "Une autre forme simple d'utilisation des regexps est `re.split`, qui fournit une fonctionnalité voisine de `str.split`, mais ou les séparateurs sont exprimés comme une expression régulière"
   ]
  },
  {
   "cell_type": "code",
   "execution_count": null,
   "id": "891ba418",
   "metadata": {},
   "outputs": [],
   "source": [
    "for sentence in sentences:\n",
    "    print(f\"---- dans >{sentence}<\")\n",
    "    print(re.split(r\"\\W+\", sentence))\n",
    "    print()"
   ]
  },
  {
   "cell_type": "markdown",
   "id": "58645d66",
   "metadata": {},
   "source": [
    "Ici l'expression régulière, qui bien sûr décrit le séparateur, est simplement `\\W+` c'est-à-dire toute suite d'au moins un caractère non alphanumérique. \n",
    "\n",
    "Nous avons donc là un moyen simple, et plus puissant que `str.split`, de couper un texte en mots."
   ]
  },
  {
   "cell_type": "markdown",
   "id": "7c543682",
   "metadata": {},
   "source": [
    "##### `sub`"
   ]
  },
  {
   "cell_type": "markdown",
   "id": "23171bd3",
   "metadata": {},
   "source": [
    "Une troisième méthode utilitaire est `re.sub` qui permet de remplacer les occurrences d'une *regexp*, comme par exemple"
   ]
  },
  {
   "cell_type": "code",
   "execution_count": null,
   "id": "1ec79ba8",
   "metadata": {},
   "outputs": [],
   "source": [
    "for sentence in sentences:\n",
    "    print(f\"---- dans >{sentence}<\")\n",
    "    print(re.sub(r\"(\\w+)\", r\"X\\1Y\", sentence))\n",
    "    print()"
   ]
  },
  {
   "cell_type": "markdown",
   "id": "b7aa0982",
   "metadata": {},
   "source": [
    "Ici, l'expression régulière (le premier argument) contient un **groupe**&nbsp;: on a utilisé des parenthèses autour du `\\w+`. Le second argument est la chaîne de remplacement, dans laquelle on a fait **référence au groupe** en écrivant `\\1`, qui veut dire tout simplement \"le premier groupe\".\n",
    "\n",
    "Donc au final, l'effet de cet appel est d'entourer toutes les suites de caractères alphanumériques par `X` et `Y`."
   ]
  },
  {
   "cell_type": "markdown",
   "id": "1416af8f",
   "metadata": {},
   "source": [
    "##### Pourquoi un *raw-string* ?"
   ]
  },
  {
   "cell_type": "markdown",
   "id": "220fe4d4",
   "metadata": {},
   "source": [
    "En guise de digression, il n'y a aucune obligation à utiliser un *raw-string*, d'ailleurs on rappelle qu'il n'y a pas de différence de nature entre un *raw-string* et une chaîne usuelle"
   ]
  },
  {
   "cell_type": "code",
   "execution_count": null,
   "id": "9ca568c7",
   "metadata": {},
   "outputs": [],
   "source": [
    "raw = r'abc'\n",
    "regular = 'abc'\n",
    "# comme on a pris une 'petite' chaîne ce sont les mêmes objets\n",
    "print(f\"both compared with is → {raw is regular}\")\n",
    "# et donc a fortiori\n",
    "print(f\"both compared with == → {raw == regular}\")"
   ]
  },
  {
   "cell_type": "markdown",
   "id": "f37e08bd",
   "metadata": {},
   "source": [
    "Il se trouve que le *backslash* `\\` à l'intérieur des expressions régulières est d'un usage assez courant - on l'a vu déjà plusieurs fois. C'est pourquoi on **utilise fréquemment un *raw-string*** pour décrire une expression régulière. On rappelle que le raw-string désactive l'interprétation des `\\` à l'intérieur de la chaîne, par exemple, `\\t` est interprété comme un caractère de tabulation dans une chaine usuelle. Sans raw-string, il faut doubler tous les `\\` pour qu'il n'y ait pas d'interprétation."
   ]
  },
  {
   "cell_type": "markdown",
   "id": "e36ef35d",
   "metadata": {},
   "source": [
    "### Un deuxième exemple"
   ]
  },
  {
   "cell_type": "markdown",
   "id": "7fa83fea",
   "metadata": {},
   "source": [
    "Nous allons maintenant voir comment on peut d'abord vérifier si une chaîne est conforme au critère défini par l'expression régulière, mais aussi *extraire* les morceaux de la chaîne qui correspondent aux différentes parties de l'expression. \n",
    "\n",
    "Pour cela, supposons qu'on s'intéresse aux chaînes qui comportent 5 parties, une suite de chiffres, une suite de lettres, des chiffres à nouveau, des lettres et enfin de nouveau des chiffres."
   ]
  },
  {
   "cell_type": "markdown",
   "id": "3a36e166",
   "metadata": {},
   "source": [
    "Pour cela on considère ces trois chaines en entrée"
   ]
  },
  {
   "cell_type": "code",
   "execution_count": null,
   "id": "5dfd2954",
   "metadata": {},
   "outputs": [],
   "source": [
    "samples = ['890hj000nnm890',    # cette entrée convient\n",
    "          '123abc456def789',   # celle-ci aussi\n",
    "          '8090abababab879',   # celle-ci non\n",
    "          ]"
   ]
  },
  {
   "cell_type": "markdown",
   "id": "c341b871",
   "metadata": {},
   "source": [
    "##### `match`"
   ]
  },
  {
   "cell_type": "markdown",
   "id": "c39092f6",
   "metadata": {},
   "source": [
    "Pour commencer, voyons que l'on peut facilement **vérifier si une chaîne vérifie** ou non le critère."
   ]
  },
  {
   "cell_type": "code",
   "execution_count": null,
   "id": "44e4e637",
   "metadata": {},
   "outputs": [],
   "source": [
    "regexp1 = \"[0-9]+[A-Za-z]+[0-9]+[A-Za-z]+[0-9]+\""
   ]
  },
  {
   "cell_type": "markdown",
   "id": "ab343101",
   "metadata": {},
   "source": [
    "Si on applique cette expression régulière à toutes nos entrées"
   ]
  },
  {
   "cell_type": "code",
   "execution_count": null,
   "id": "24929dc2",
   "metadata": {},
   "outputs": [],
   "source": [
    "for sample in samples:\n",
    "    match = re.match(regexp1, sample)\n",
    "    print(f\"{sample:16} → {match}\")"
   ]
  },
  {
   "cell_type": "markdown",
   "id": "b5636c9c",
   "metadata": {},
   "source": [
    "Pour rendre ce résultat un peu plus lisible nous nous définissons une petite fonction de confort."
   ]
  },
  {
   "cell_type": "code",
   "execution_count": null,
   "id": "a1048f2c",
   "metadata": {},
   "outputs": [],
   "source": [
    "# pour simplement visualiser si on a un match ou pas\n",
    "def nice(match):\n",
    "    # le retour de re.match est soit None, soit un objet match\n",
    "    return \"no\" if match is None else \"Match!\""
   ]
  },
  {
   "cell_type": "markdown",
   "id": "18c199ff",
   "metadata": {},
   "source": [
    "Avec quoi on peut refaire l'essai sur toutes nos entrées."
   ]
  },
  {
   "cell_type": "code",
   "execution_count": null,
   "id": "78d04dcd",
   "metadata": {},
   "outputs": [],
   "source": [
    "# la même chose mais un peu moins encombrant\n",
    "print(f\"REGEXP={regexp1}\\n\")\n",
    "for sample in samples:\n",
    "    match = re.match(regexp1, sample)\n",
    "    print(f\"{sample:>16} → {nice(match)}\")"
   ]
  },
  {
   "cell_type": "markdown",
   "id": "2b5726e6",
   "metadata": {},
   "source": [
    "Ici plutôt que d'utiliser les raccourcis comme `\\w` j'ai préféré écrire explicitement les ensembles de caractères en jeu. De cette façon, on rend son code indépendant du LOCALE si c'est ce qu'on veut faire. Il y a deux morceaux qui interviennent tour à tour&nbsp;:\n",
    "\n",
    " * `[0-9]+` signifie une suite de au moins un caractère dans l'intervalle `[0-9]`,\n",
    " * `[A-Za-z]+` pour une suite d'au moins un caractère dans l'intervalle `[A-Z]` ou dans l'intervalle `[a-z]`. \n",
    " \n",
    "Et comme tout à l'heure on a simplement juxtaposé les morceaux dans le bon ordre pour construire l'expression régulière complète."
   ]
  },
  {
   "cell_type": "markdown",
   "id": "a2bf538a",
   "metadata": {},
   "source": [
    "##### Nommer un morceau (un groupe)"
   ]
  },
  {
   "cell_type": "code",
   "execution_count": null,
   "id": "4724851b",
   "metadata": {},
   "outputs": [],
   "source": [
    "# on se concentre sur une entrée correcte\n",
    "haystack = samples[1]\n",
    "haystack"
   ]
  },
  {
   "cell_type": "markdown",
   "id": "2d19cad3",
   "metadata": {},
   "source": [
    "Maintenant, on va même pouvoir **donner un nom** à un morceau de la regexp, ici on désigne par `needle` le groupe de chiffres du milieu."
   ]
  },
  {
   "cell_type": "code",
   "execution_count": null,
   "id": "e0c2335d",
   "metadata": {},
   "outputs": [],
   "source": [
    "# la même regexp, mais on donne un nom au groupe de chiffres central\n",
    "regexp2 = \"[0-9]+[A-Za-z]+(?P<needle>[0-9]+)[A-Za-z]+[0-9]+\""
   ]
  },
  {
   "cell_type": "markdown",
   "id": "9331d868",
   "metadata": {},
   "source": [
    "Et une fois que c'est fait, on peut demander à l'outil de nous **retrouver la partie correspondante** dans la chaine initiale:"
   ]
  },
  {
   "cell_type": "code",
   "execution_count": null,
   "id": "3e80f537",
   "metadata": {},
   "outputs": [],
   "source": [
    "print(re.match(regexp2, haystack).group('needle'))"
   ]
  },
  {
   "cell_type": "markdown",
   "id": "7bf46713",
   "metadata": {},
   "source": [
    "Dans cette expression on a utilisé un **groupe nommé** `(?P<needle>[0-9]+)`, dans lequel&nbsp;:\n",
    "\n",
    " * les parenthèses définissent un groupe,\n",
    " * `?P<needle>` spécifie que ce groupe pourra être référencé sous le nom `needle` (cette syntaxe très absconse est héritée semble-t-il de perl)."
   ]
  },
  {
   "cell_type": "markdown",
   "id": "88702753",
   "metadata": {},
   "source": [
    "### Un troisième exemple"
   ]
  },
  {
   "cell_type": "markdown",
   "id": "4c2b75ce",
   "metadata": {},
   "source": [
    "Enfin, et c'est un trait qui n'est pas présent dans tous les langages, on peut restreindre un morceau de chaîne à être identique à un groupe déjà vu plus tôt dans la chaîne. Dans l'exemple ci-dessus, on pourrait ajouter comme contrainte que le premier et le dernier groupes de chiffres soient identiques, comme ceci"
   ]
  },
  {
   "cell_type": "code",
   "execution_count": null,
   "id": "04afd895",
   "metadata": {},
   "outputs": [],
   "source": [
    "regexp3 = \"(?P<id>[0-9]+)[A-Za-z]+(?P<needle>[0-9]+)[A-Za-z]+(?P=id)\""
   ]
  },
  {
   "cell_type": "markdown",
   "id": "760c40c2",
   "metadata": {},
   "source": [
    "Si bien que maintenant, avec les mêmes entrées que tout à l'heure"
   ]
  },
  {
   "cell_type": "code",
   "execution_count": null,
   "id": "cfd39c18",
   "metadata": {},
   "outputs": [],
   "source": [
    "print(f\"REGEXP={regexp3}\\n\")\n",
    "for sample in samples:\n",
    "    match = re.match(regexp3, sample)\n",
    "    print(f\"{sample:>16} → {nice(match)}\")    "
   ]
  },
  {
   "cell_type": "markdown",
   "id": "18c74c2b",
   "metadata": {},
   "source": [
    "Comme précédemment on a défini le groupe nommé `id` comme étant la première suite de chiffres. \n",
    "La nouveauté ici est la **contrainte** qu'on a imposée sur le dernier groupe avec `(?P=id)`. Comme vous le voyez, on n'obtient un *match* qu'avec les entrées dans lesquelles le dernier groupe de chiffres est identique au premier."
   ]
  },
  {
   "cell_type": "markdown",
   "id": "61cd37eb",
   "metadata": {},
   "source": [
    "### Comment utiliser la librairie - Compilation des expressions régulières"
   ]
  },
  {
   "cell_type": "markdown",
   "id": "1d94d856",
   "metadata": {},
   "source": [
    "Avant d'apprendre à écrire une expression régulière, disons quelques mots du mode d'emploi de la librairie."
   ]
  },
  {
   "cell_type": "markdown",
   "id": "468eca3e",
   "metadata": {},
   "source": [
    "##### Fonctions de commodité et *workflow*"
   ]
  },
  {
   "cell_type": "markdown",
   "id": "d6ebe861",
   "metadata": {},
   "source": [
    "Comme vous le savez peut-être, une expression régulière décrite sous forme de chaîne, comme par exemple `\"\\w*[am]\\W\"`, peut être traduite dans un **automate fini** qui permet de faire le filtrage avec une chaîne. C'est ce qui explique le *workflow* que nous avons résumé dans cette figure.\n",
    "\n",
    "<img src=\"media/re-workflow.png\">"
   ]
  },
  {
   "cell_type": "markdown",
   "id": "1fc50288",
   "metadata": {},
   "source": [
    "La méthode recommandée pour utiliser la librairie, lorsque vous avez le même *pattern* à appliquer à un grand nombre de chaînes, est de&nbsp;:\n",
    "\n",
    " * compiler **une seule fois** votre chaîne en un automate, qui est matérialisé par un objet de la classe `re.RegexObject`, en utilisant `re.compile`, \n",
    " * puis d'**utiliser directement cet objet** autant de fois que vous avez de chaînes."
   ]
  },
  {
   "cell_type": "markdown",
   "id": "2c22d7b9",
   "metadata": {},
   "source": [
    "Nous avons utilisé dans les exemples plus haut (et nous continuerons plus bas pour une meilleure lisibilité) des **fonctions de commodité** du module, qui sont pratiques, par exemple, pour mettre au  point une expression régulière en mode interactif, mais qui ne **sont pas forcément** adaptées dans tous les cas. \n",
    "\n",
    "Ces fonctions de commodité fonctionnent toutes sur le même principe&nbsp;:\n",
    "\n",
    "`re.match(regexp, sample)`  $\\Longleftrightarrow$ `re.compile(regexp).match(sample)`\n",
    "\n",
    "Donc à chaque fois qu'on utilise une fonction de commodité, on recompile la chaîne en automate, ce qui, dès qu'on a plus d'une chaîne à traiter, représente un surcoût."
   ]
  },
  {
   "cell_type": "code",
   "execution_count": null,
   "id": "3e95147d",
   "metadata": {
    "cell_style": "split"
   },
   "outputs": [],
   "source": [
    "# au lieu de faire comme ci-dessus:\n",
    "\n",
    "# imaginez 10**6 chaînes dans samples\n",
    "for sample in samples:\n",
    "    match = re.match(regexp3, sample)\n",
    "    print(f\"{sample:>16} → {nice(match)}\")    "
   ]
  },
  {
   "cell_type": "code",
   "execution_count": null,
   "id": "43823409",
   "metadata": {
    "cell_style": "split"
   },
   "outputs": [],
   "source": [
    "# dans du vrai code on fera plutôt:\n",
    "\n",
    "# on compile la chaîne en automate une seule fois\n",
    "re_obj3 = re.compile(regexp3)\n",
    "\n",
    "# ensuite on part directement de l'automate\n",
    "for sample in samples:\n",
    "    match = re_obj3.match(sample)\n",
    "    print(f\"{sample:>16} → {nice(match)}\")"
   ]
  },
  {
   "cell_type": "markdown",
   "id": "78a449f9",
   "metadata": {},
   "source": [
    "Cette deuxième version ne compile qu'une fois la chaîne en automate, et donc est plus efficace."
   ]
  },
  {
   "cell_type": "markdown",
   "id": "75eaa9d0",
   "metadata": {},
   "source": [
    "##### Les méthodes sur la classe `RegexObject`"
   ]
  },
  {
   "cell_type": "markdown",
   "id": "b407be66",
   "metadata": {},
   "source": [
    "Les objets de la classe `RegexObject` représentent donc l'automate à état fini qui est le résultat de la compilation de l'expression régulière. \n",
    "Pour résumer ce qu'on a déjà vu, les méthodes les plus utiles sur un objet `RegexObject` sont&nbsp;:\n",
    "\n",
    " * `match` et `search`, qui cherchent un *match* soit uniquement au début (`match`) ou n'importe où dans la chaîne (`search`),\n",
    " * `findall` et `split` pour chercher toutes les occurrences (`findall`) ou leur négatif (`split`),\n",
    " * `sub` (qui aurait pu sans doute s'appeler `replace`, mais c'est comme ça) pour remplacer les occurrences de pattern."
   ]
  },
  {
   "cell_type": "markdown",
   "id": "6711ea35",
   "metadata": {},
   "source": [
    "##### Exploiter le résultat"
   ]
  },
  {
   "cell_type": "markdown",
   "id": "f3264a55",
   "metadata": {},
   "source": [
    "Les **méthodes** disponibles sur la classe **`re.MatchObject`** sont [documentées en détail ici](https://docs.python.org/3/library/re.html#match-objects). On en a déjà rencontré quelques-unes, en voici à nouveau un aperçu rapide."
   ]
  },
  {
   "cell_type": "code",
   "execution_count": null,
   "id": "252dcc34",
   "metadata": {},
   "outputs": [],
   "source": [
    "# exemple\n",
    "sample = \"    Isaac Newton, physicist\"\n",
    "match = re.search(r\"(\\w+) (?P<name>\\w+)\", sample)"
   ]
  },
  {
   "cell_type": "markdown",
   "id": "7e00f14b",
   "metadata": {},
   "source": [
    "`re` et `string` pour retrouver les données d'entrée du match."
   ]
  },
  {
   "cell_type": "code",
   "execution_count": null,
   "id": "6f79f213",
   "metadata": {},
   "outputs": [],
   "source": [
    "match.string"
   ]
  },
  {
   "cell_type": "code",
   "execution_count": null,
   "id": "9bd82bf6",
   "metadata": {},
   "outputs": [],
   "source": [
    "match.re"
   ]
  },
  {
   "cell_type": "markdown",
   "id": "14a122a1",
   "metadata": {},
   "source": [
    "`group`, `groups`, `groupdict` pour retrouver les morceaux de la chaîne d'entrée qui correspondent aux **groupes** de la regexp. On peut y accéder par rang, ou par nom (comme on l'a vu plus haut avec `needle`)."
   ]
  },
  {
   "cell_type": "code",
   "execution_count": null,
   "id": "e7c7a48f",
   "metadata": {},
   "outputs": [],
   "source": [
    "match.groups()"
   ]
  },
  {
   "cell_type": "code",
   "execution_count": null,
   "id": "1aee181f",
   "metadata": {},
   "outputs": [],
   "source": [
    "match.group(1)"
   ]
  },
  {
   "cell_type": "code",
   "execution_count": null,
   "id": "2979cd7f",
   "metadata": {},
   "outputs": [],
   "source": [
    "match.group('name')"
   ]
  },
  {
   "cell_type": "code",
   "execution_count": null,
   "id": "bcf082bf",
   "metadata": {},
   "outputs": [],
   "source": [
    "match.group(2)"
   ]
  },
  {
   "cell_type": "code",
   "execution_count": null,
   "id": "fcfecc9a",
   "metadata": {},
   "outputs": [],
   "source": [
    "match.groupdict()"
   ]
  },
  {
   "cell_type": "markdown",
   "id": "eb24f0cf",
   "metadata": {},
   "source": [
    " Comme on le voit pour l'accès par rang **les indices commencent à 1** pour des raisons historiques (on pouvait déjà référencer `\\1` dans l'éditeur Unix *sed* à la fin des années 70 !). \n",
    " \n",
    " On peut aussi accéder au **groupe 0** comme étant la partie de la chaîne de départ qui a effectivement été filtrée par l'expression régulière - qui en général est une sous-chaine de la chaîne de départ :"
   ]
  },
  {
   "cell_type": "code",
   "execution_count": null,
   "id": "247ace09",
   "metadata": {
    "cell_style": "split"
   },
   "outputs": [],
   "source": [
    "# la sous-chaine filtrée\n",
    "match.group(0)"
   ]
  },
  {
   "cell_type": "code",
   "execution_count": null,
   "id": "c1bebdb8",
   "metadata": {
    "cell_style": "split"
   },
   "outputs": [],
   "source": [
    "# la chaine de départ\n",
    "sample"
   ]
  },
  {
   "cell_type": "markdown",
   "id": "be8995d4",
   "metadata": {},
   "source": [
    "`expand` permet de faire une espèce de `str.format` avec les valeurs des groupes."
   ]
  },
  {
   "cell_type": "code",
   "execution_count": null,
   "id": "16a5e620",
   "metadata": {},
   "outputs": [],
   "source": [
    "match.expand(r\"last_name \\g<name> first_name \\1\")"
   ]
  },
  {
   "cell_type": "markdown",
   "id": "ecafd611",
   "metadata": {},
   "source": [
    "`span` pour connaître les index dans la chaîne d'entrée pour un groupe donné."
   ]
  },
  {
   "cell_type": "code",
   "execution_count": null,
   "id": "297ecb60",
   "metadata": {},
   "outputs": [],
   "source": [
    "# NB: seq[i:j] est une opération de slicing que nous verrons plus tard\n",
    "# Elle retourne une séquence contenant les éléments de i à j-1 de seq\n",
    "begin, end = match.span('name')\n",
    "sample[begin:end]"
   ]
  },
  {
   "cell_type": "markdown",
   "id": "84782ba7",
   "metadata": {},
   "source": [
    "##### Les différents modes (*flags*)"
   ]
  },
  {
   "cell_type": "markdown",
   "id": "f5e3bced",
   "metadata": {},
   "source": [
    "Enfin il faut noter qu'on peut passer à `re.compile` un certain nombre de *flags* qui modifient globalement l'interprétation de la chaîne, et qui peuvent rendre service."
   ]
  },
  {
   "cell_type": "markdown",
   "id": "2973a2c6",
   "metadata": {},
   "source": [
    "Vous trouverez [une liste exhaustive de ces *flags* ici](https://docs.python.org/3/library/re.html#module-contents). Ils ont en général un nom long et parlant, et un alias court sur un seul caractère. Les plus utiles sont sans doute&nbsp;:\n",
    "\n",
    " * `IGNORECASE` (*alias* `I`) pour, eh bien, ne pas faire la différence entre minuscules et majuscules,\n",
    " * `UNICODE` (*alias* `U`) pour rendre les séquences `\\w` et autres basées sur les propriétés des caractères dans la norme Unicode,\n",
    " * `LOCALE` (*alias* `L`) cette fois `\\w` dépend du `locale` courant,\n",
    " * `MULTILINE` (*alias* `M`), et\n",
    " * `DOTALL` (*alias* S) - pour ces deux derniers flags, voir la discussion à la fin du complément."
   ]
  },
  {
   "cell_type": "markdown",
   "id": "55c5547b",
   "metadata": {},
   "source": [
    "Comme c'est souvent le cas, on doit passer à `re.compile` un **ou logique** (caractère `|`) des différents flags que l'on veut utiliser, c'est-à-dire qu'on fera par exemple"
   ]
  },
  {
   "cell_type": "code",
   "execution_count": null,
   "id": "1a87a69f",
   "metadata": {},
   "outputs": [],
   "source": [
    "regexp = \"a*b+\"\n",
    "re_obj = re.compile(regexp, flags=re.IGNORECASE | re.DEBUG)"
   ]
  },
  {
   "cell_type": "code",
   "execution_count": null,
   "id": "9bf37b90",
   "metadata": {},
   "outputs": [],
   "source": [
    "# on ignore la casse des caractères \n",
    "print(regexp, \"->\", nice(re_obj.match(\"AabB\")))"
   ]
  },
  {
   "cell_type": "markdown",
   "id": "35b339eb",
   "metadata": {},
   "source": [
    "### Comment construire une expression régulière"
   ]
  },
  {
   "cell_type": "markdown",
   "id": "0e429df2",
   "metadata": {},
   "source": [
    "Nous pouvons à présent voir comment construire une expression régulière, en essayant de rester synthétique (la [documentation du module `re`](https://docs.python.org/3/library/re.html) en donne une version exhaustive)."
   ]
  },
  {
   "cell_type": "markdown",
   "id": "7fc92b74",
   "metadata": {},
   "source": [
    "##### La brique de base : le caractère"
   ]
  },
  {
   "cell_type": "markdown",
   "id": "682f5ef4",
   "metadata": {},
   "source": [
    "Au commencement il faut spécifier des caractères.\n",
    "\n",
    "* **un seul** caractère: \n",
    "  * vous le citez tel quel, en le précédent d'un backslash `\\` s'il a par ailleurs un sens spécial dans le micro-langage de regexps (comme `+`, `*`, `[`, etc.);\n",
    "* l'**attrape-tout** (*wildcard*):\n",
    "   * un point `.` signifie \"n'importe quel caractère\";\n",
    "* **un ensemble** de caractères avec la notation `[...]` qui permet de décrire par exemple:\n",
    "  * `[a1=]` un ensemble in extenso, ici un caractère parmi `a`, `1`, ou `=`,\n",
    "  * `[a-z]` un intervalle de caractères, ici de `a` à `z`,\n",
    "  * `[15e-g]` un mélange des deux, ici un ensemble qui contiendrait `1`, `5`, `e`, `f` et `g`,\n",
    "  * `[^15e-g]` une **négation**, qui a `^` comme premier caractère dans les `[]`, ici tout sauf l'ensemble précédent;\n",
    "* un **ensemble prédéfini** de caractères, qui peuvent alors dépendre de l'environnement (UNICODE et LOCALE) avec entre autres les notations:\n",
    "  * `\\w` les caractères alphanumériques, et `\\W` (les autres),\n",
    "  * `\\s` les caractères \"blancs\" - espace, tabulation, saut de ligne, etc., et `\\S` (les autres),\n",
    "  * `\\d` pour les chiffres, et `\\D` (les autres)."
   ]
  },
  {
   "cell_type": "code",
   "execution_count": null,
   "id": "72867967",
   "metadata": {},
   "outputs": [],
   "source": [
    "sample = \"abcd\"\n",
    "\n",
    "for regexp in ['abcd', 'ab[cd][cd]', 'ab[a-z]d', r'abc.', r'abc\\.']:\n",
    "    match = re.match(regexp, sample)\n",
    "    print(f\"{sample} / {regexp:<10s} → {nice(match)}\")"
   ]
  },
  {
   "cell_type": "markdown",
   "id": "56e4ce47",
   "metadata": {},
   "source": [
    "Pour ce dernier exemple, comme on a backslashé le `.` il faut que la chaîne en entrée contienne vraiment un `.`"
   ]
  },
  {
   "cell_type": "code",
   "execution_count": null,
   "id": "e7cbceaa",
   "metadata": {},
   "outputs": [],
   "source": [
    "print(nice(re.match (r\"abc\\.\", \"abc.\")))"
   ]
  },
  {
   "cell_type": "markdown",
   "id": "24c603b1",
   "metadata": {},
   "source": [
    "##### En série ou en parallèle"
   ]
  },
  {
   "cell_type": "markdown",
   "id": "be3e092d",
   "metadata": {},
   "source": [
    "Si je fais une analogie avec les montages électriques, jusqu'ici on a vu le montage en série, on met des expressions régulières bout à bout qui filtrent (`match`) la chaine en entrée séquentiellement du début à la fin. On a *un peu* de marge pour spécifier des alternatives, lorsqu'on fait par exemple\n",
    "\n",
    "```python\n",
    "\"ab[cd]ef\"\n",
    "```\n",
    "\n",
    "mais c'est limité à **un seul** caractère. Si on veut reconnaitre deux mots qui n'ont pas grand-chose à voir comme `abc` **ou** `def`, il faut en quelque sorte mettre deux regexps en parallèle, et c'est ce que permet l'opérateur `|`"
   ]
  },
  {
   "cell_type": "code",
   "execution_count": null,
   "id": "2ebd74f2",
   "metadata": {},
   "outputs": [],
   "source": [
    "regexp = \"abc|def\"\n",
    "\n",
    "for sample in ['abc', 'def', 'aef']:\n",
    "    match = re.match(regexp, sample)\n",
    "    print(f\"{sample} / {regexp} → {nice(match)}\")"
   ]
  },
  {
   "cell_type": "markdown",
   "id": "ac786b5a",
   "metadata": {},
   "source": [
    "##### Fin(s) de chaîne"
   ]
  },
  {
   "cell_type": "markdown",
   "id": "9efe9d21",
   "metadata": {},
   "source": [
    "Selon que vous utilisez `match` ou `search`, vous précisez si vous vous intéressez uniquement à un match en début (`match`) ou n'importe où (`search`) dans la chaîne.\n",
    "\n",
    "Mais indépendamment de cela, il peut être intéressant de \"coller\" l'expression en début ou en fin de ligne, et pour ça il existe des caractères spéciaux:\n",
    "\n",
    " * `^` lorsqu'il est utilisé comme un caractère (c'est à dire pas en début de `[]`) signifie un début de chaîne;\n",
    " * `\\A` a le même sens (sauf en mode MULTILINE), et je le recommande de préférence à `^` qui est déjà pas mal surchargé;\n",
    " * `$` matche une fin de ligne;\n",
    " * `\\Z` est voisin de `$` mais pas tout à fait identique.\n",
    "\n",
    "Reportez-vous à la documentation pour le détails des différences. Attention aussi à entrer le `^` correctement, il vous faut le caractère ASCII et non un voisin dans la ménagerie Unicode."
   ]
  },
  {
   "cell_type": "code",
   "execution_count": null,
   "id": "906c6522",
   "metadata": {},
   "outputs": [],
   "source": [
    "sample = 'abcd'\n",
    "\n",
    "for regexp in [ r'bc', r'\\Aabc', r'^abc', \n",
    "                r'\\Abc', r'^bc', r'bcd\\Z', \n",
    "                r'bcd$', r'bc\\Z', r'bc$' ]:\n",
    "    match = re.match(regexp, sample)\n",
    "    search = re.search(regexp, sample)\n",
    "    print(f\"{sample} / {regexp:5s} match → {nice(match):6s},\"\n",
    "          f\" search → {nice(search)}\")"
   ]
  },
  {
   "cell_type": "markdown",
   "id": "708ade87",
   "metadata": {},
   "source": [
    "On a en effet bien le pattern `bc` dans la chaine en entrée, mais il n'est ni au début ni à la fin."
   ]
  },
  {
   "cell_type": "markdown",
   "id": "841a80b2",
   "metadata": {},
   "source": [
    "##### Parenthéser - (grouper)"
   ]
  },
  {
   "cell_type": "markdown",
   "id": "0b087e3d",
   "metadata": {},
   "source": [
    "Pour pouvoir faire des montages élaborés, il faut pouvoir parenthéser."
   ]
  },
  {
   "cell_type": "code",
   "execution_count": null,
   "id": "e272c719",
   "metadata": {
    "cell_style": "split"
   },
   "outputs": [],
   "source": [
    "# une parenthése dans une RE \n",
    "# pour mettre en ligne:\n",
    "# un début 'a', \n",
    "# un milieu 'bc' ou 'de' \n",
    "# et une fin 'f'\n",
    "regexp = \"a(bc|de)f\""
   ]
  },
  {
   "cell_type": "markdown",
   "id": "b3c5814d",
   "metadata": {
    "cell_style": "split"
   },
   "source": [
    "<img src=\"media/re-serie-parallele.png\">"
   ]
  },
  {
   "cell_type": "code",
   "execution_count": null,
   "id": "6e33bed8",
   "metadata": {
    "cell_style": "center"
   },
   "outputs": [],
   "source": [
    "for sample in ['abcf', 'adef',  'abef', 'abf']:\n",
    "    match = re.match(regexp, sample)\n",
    "    print(f\"{sample:>4s} → {nice(match)}\")"
   ]
  },
  {
   "cell_type": "markdown",
   "id": "31f007ad",
   "metadata": {},
   "source": [
    "Les parenthèses jouent un rôle additionel de **groupe**, ce qui signifie qu'on **peut retrouver** le texte correspondant à l'expression régulière comprise dans les `()`. Par exemple, pour le premier match"
   ]
  },
  {
   "cell_type": "code",
   "execution_count": null,
   "id": "5596199e",
   "metadata": {},
   "outputs": [],
   "source": [
    "sample = 'abcf'\n",
    "match = re.match(regexp, sample)\n",
    "print(f\"{sample}, {regexp} → {match.groups()}\")"
   ]
  },
  {
   "cell_type": "markdown",
   "id": "2bc7fc44",
   "metadata": {},
   "source": [
    "dans cet exemple, on n'a utilisé qu'un seul groupe `()`, et le morceau de chaîne qui correspond à ce groupe se trouve donc être le seul groupe retourné par `MatchObject.group`."
   ]
  },
  {
   "cell_type": "markdown",
   "id": "a2f58b88",
   "metadata": {},
   "source": [
    "##### Compter les répétitions"
   ]
  },
  {
   "cell_type": "markdown",
   "id": "ef76d85c",
   "metadata": {},
   "source": [
    "Vous disposez des opérateurs suivants&nbsp;:\n",
    "\n",
    " * `*` l'étoile qui signifie n'importe quel nombre, même nul, d'occurrences  - par exemple, `(ab)*` pour indiquer `''` ou `'ab'` ou `'abab'` ou etc.,\n",
    " * `+` le plus qui signifie au moins une occurrence - e.g. `(ab)+` pour `ab` ou `abab` ou `ababab` ou etc,\n",
    " * `?` qui indique une option, c'est-à-dire 0 ou 1 occurence - autrement dit `(ab)?` matche `''` ou `ab`, \n",
    " * `{n}` pour exactement n occurrences de `(ab)` - e.g. `(ab){3}` qui serait exactement équivalent à `ababab`,\n",
    " * `{m,n}` entre m et n fois inclusivement."
   ]
  },
  {
   "cell_type": "code",
   "execution_count": null,
   "id": "91206700",
   "metadata": {},
   "outputs": [],
   "source": [
    "# NB: la construction\n",
    "#   [op(elt) for elt in iterable] \n",
    "# est une compréhension de liste que nous étudierons plus tard.\n",
    "# Elle retourne une liste contenant les résultats\n",
    "# de l'opération op sur chaque élément de la liste de départ\n",
    "\n",
    "samples = [n*'ab' for n in [0, 1, 3, 4]] + ['baba']\n",
    "\n",
    "for regexp in ['(ab)*', '(ab)+', '(ab){3}', '(ab){3,4}']:\n",
    "    # on ajoute \\A \\Z pour matcher toute la chaine\n",
    "    line_regexp = r\"\\A{}\\Z\".format(regexp)\n",
    "    for sample in samples:\n",
    "        match = re.match(line_regexp, sample)\n",
    "        print(f\"{sample:>8s} / {line_regexp:14s} → {nice(match)}\")"
   ]
  },
  {
   "cell_type": "markdown",
   "id": "13548743",
   "metadata": {},
   "source": [
    "##### Groupes et contraintes"
   ]
  },
  {
   "cell_type": "markdown",
   "id": "7ad36527",
   "metadata": {},
   "source": [
    "Nous avons déjà vu un exemple de groupe nommé (voir `needle` plus haut), les opérateurs que l'on peut citer dans cette catégorie sont&nbsp;:\n",
    "\n",
    " * `(...)` les parenthèses définissent un groupe anonyme,\n",
    " * `(?P<name>...)` définit un groupe nommé,\n",
    " * `(?:...)` permet de mettre des parenthèses mais sans créer un groupe, pour optimiser l'exécution puisqu'on n'a pas besoin de  conserver les liens vers la chaîne d'entrée,\n",
    " * `(?P=name)` qui ne matche que si l'on retrouve à cet endroit de l'entrée la même sous-chaîne que celle trouvée pour le groupe `name` en amont,\n",
    " * enfin `(?=...)`, `(?!...)`et `(?<=...)` permettent des contraintes encore plus élaborées, nous vous laissons le soin d'expérimenter avec elles si vous êtes intéressés; sachez toutefois que l'utilisation de telles constructions peut en théorie rendre l'interprétation de votre expression régulière beaucoup moins efficace."
   ]
  },
  {
   "cell_type": "markdown",
   "id": "a1e34aa0",
   "metadata": {},
   "source": [
    "##### Greedy *vs* non-greedy"
   ]
  },
  {
   "cell_type": "markdown",
   "id": "65b03a1a",
   "metadata": {},
   "source": [
    "Lorsqu'on stipule une répétition un nombre indéfini de fois, il se peut qu'il existe **plusieurs** façons de filtrer l'entrée avec l'expression régulière. Que ce soit avec `*`, ou `+`, ou `?`, l'algorithme va toujours essayer de trouver la **séquence la plus longue**, c'est pourquoi on qualifie l'approche de *greedy* - quelque chose comme glouton en français."
   ]
  },
  {
   "cell_type": "code",
   "execution_count": null,
   "id": "fe505c02",
   "metadata": {},
   "outputs": [],
   "source": [
    "# un fragment d'HTML \n",
    "line='<h1>Title</h1>'\n",
    "\n",
    "# si on cherche un texte quelconque entre crochets\n",
    "# c'est-à-dire l'expression régulière \"<.*>\"\n",
    "re_greedy = '<.*>'\n",
    "\n",
    "# on obtient ceci\n",
    "# on rappelle que group(0) montre la partie du fragment\n",
    "# HTML qui matche l'expression régulière\n",
    "match = re.match(re_greedy, line)\n",
    "match.group(0)"
   ]
  },
  {
   "cell_type": "markdown",
   "id": "46086c7f",
   "metadata": {},
   "source": [
    "Ça n'est pas forcément ce qu'on voulait faire, aussi on peut spécifier l'approche inverse, c'est-à-dire de trouver la **plus-petite** chaîne qui matche, dans une approche dite *non-greedy*, avec les opérateurs suivants&nbsp;:\n",
    "\n",
    " * `*?` : `*` mais *non-greedy*,\n",
    " * `+?` : `+` mais *non-greedy*,\n",
    " * `??` : `?` mais *non-greedy*,"
   ]
  },
  {
   "cell_type": "code",
   "execution_count": null,
   "id": "5d19e696",
   "metadata": {},
   "outputs": [],
   "source": [
    "# ici on va remplacer * par *? pour rendre l'opérateur * non-greedy\n",
    "re_non_greedy = re_greedy = '<.*?>'\n",
    "\n",
    "# mais on continue à cherche un texte entre <> naturellement\n",
    "# si bien que cette fois, on obtient\n",
    "match = re.match(re_non_greedy, line)\n",
    "match.group(0)"
   ]
  },
  {
   "cell_type": "markdown",
   "id": "b9d6512e",
   "metadata": {},
   "source": [
    "##### S'agissant du traitement des fins de ligne"
   ]
  },
  {
   "cell_type": "markdown",
   "id": "128988be",
   "metadata": {},
   "source": [
    "Il peut être utile, pour conclure cette présentation, de préciser un peu le comportement de la librairie vis-à-vis des fins de ligne.\n",
    "\n",
    "Historiquement, les expressions régulières telles qu'on les trouve dans les librairies C, donc dans `sed`, `grep` et autre utilitaires Unix, sont associées au modèle mental où on filtre les entrées ligne par ligne.\n",
    "\n",
    "Le module `re` en garde des traces, puisque"
   ]
  },
  {
   "cell_type": "code",
   "execution_count": null,
   "id": "6aae6501",
   "metadata": {},
   "outputs": [],
   "source": [
    "# un exemple de traitement des 'newlines' \n",
    "sample = \"\"\"une entrée\n",
    "sur\n",
    "plusieurs\n",
    "lignes\n",
    "\"\"\""
   ]
  },
  {
   "cell_type": "code",
   "execution_count": null,
   "id": "c6faf7c8",
   "metadata": {},
   "outputs": [],
   "source": [
    "match = re.compile(\"(.*)\").match(sample)\n",
    "match.groups()"
   ]
  },
  {
   "cell_type": "markdown",
   "id": "73e54e3b",
   "metadata": {},
   "source": [
    "Vous voyez donc que l'attrape-tout `'.'` en fait n'attrape pas le caractère de fin de ligne `\\n`, puisque si c'était le cas et  compte tenu du coté *greedy* de l'algorithme on devrait voir ici tout le contenu de `sample`. Il existe un *flag* `re.DOTALL` qui permet de faire de `.` un vrai attrape-tout qui capture aussi les *newline*"
   ]
  },
  {
   "cell_type": "code",
   "execution_count": null,
   "id": "34e318a7",
   "metadata": {},
   "outputs": [],
   "source": [
    "match = re.compile(\"(.*)\", flags=re.DOTALL).match(sample)\n",
    "match.groups()"
   ]
  },
  {
   "cell_type": "markdown",
   "id": "10f87316",
   "metadata": {},
   "source": [
    "Cela dit, le caractère *newline* est par ailleurs considéré comme un caractère comme un autre, on peut le mentionner **dans une regexp** comme les autres. Voici quelques exemples pour illustrer tout ceci"
   ]
  },
  {
   "cell_type": "code",
   "execution_count": null,
   "id": "871cf979",
   "metadata": {},
   "outputs": [],
   "source": [
    "# (depuis Python 3) sans mettre de flag, \\w matche l'Unicode\n",
    "match = re.compile(\"([\\w ]*)\").match(sample)\n",
    "match.groups()"
   ]
  },
  {
   "cell_type": "code",
   "execution_count": null,
   "id": "a719a5c1",
   "metadata": {},
   "outputs": [],
   "source": [
    "# pour matcher les caractères ASCII avec \\w\n",
    "# il faut mentionner le flag ASCII re.A\n",
    "match = re.compile(\"([\\w ]*)\", flags=re.A).match(sample)\n",
    "match.groups()"
   ]
  },
  {
   "cell_type": "code",
   "execution_count": null,
   "id": "1527c0c8",
   "metadata": {},
   "outputs": [],
   "source": [
    "# si on ajoute \\n à la liste des caractères attendus \n",
    "# on obtient bien tout le contenu initial\n",
    "\n",
    "match = re.compile(\"([\\w \\n]*)\", flags=re.UNICODE).match(sample)\n",
    "match.groups()"
   ]
  },
  {
   "cell_type": "markdown",
   "id": "ae6dcd09",
   "metadata": {},
   "source": [
    "### Conclusion"
   ]
  },
  {
   "cell_type": "markdown",
   "id": "49956d58",
   "metadata": {},
   "source": [
    "La mise au point d'expressions régulières est certes un peu exigeante, et demande pas mal de pratique, mais permet d'écrire en quelques lignes des fonctionnalités très puissantes, c'est un investissement très rentable :)"
   ]
  },
  {
   "cell_type": "markdown",
   "id": "34a01acd",
   "metadata": {},
   "source": [
    "Je vous signale enfin l'existence de **sites web** qui évaluent une expression régulière **de manière interactive** et qui peuvent rendre la mise au point moins fastidieuse. \n",
    "\n",
    "Je vous signale notamment <https://pythex.org/>, il en existe beaucoup d'autres.\n",
    "\n",
    "Un élève, qui a eu notamment des soucis avec le `\\w` sur pythex.org (dont, on l'a vu, la signification dépend du *locale* de la machine hôte)  recommande pour sa part <https://regex101.com/> : \n",
    "> Ce site est très didactique et lui reconnait les caractères accentués sur un `\\w` sans rajouter de flag (même si cette option est possible)."
   ]
  },
  {
   "cell_type": "markdown",
   "id": "f27e26ce",
   "metadata": {},
   "source": [
    "### Pour en savoir plus"
   ]
  },
  {
   "cell_type": "markdown",
   "id": "a75fd179",
   "metadata": {},
   "source": [
    "Pour ceux qui ont quelques rudiments de la théorie des langages, vous savez qu'on distingue en général \n",
    "\n",
    " * l'**analyse lexicale**, qui découpe le texte en morceaux (qu'on appelle des *tokens*),\n",
    " * et l'**analyse syntaxique** qui décrit pour simplifier à l'extrême l'ordre dans lequel on peut trouver les tokens.\n",
    " \n",
    "Avec les expression régulières, on adresse le niveau de l'analyse lexicale. Pour l'analyse syntaxique, qui est franchement au delà des objectifs de ce cours, il existe de nombreuses alternatives, parmi lesquelles:\n",
    "\n",
    " * [`pyparsing`](https://pypi.org/project/pyparsing/)\n",
    " * [`PLY` (Python Lex-Yacc)](http://www.dabeaz.com/ply/)\n",
    " * [`ANTLR`](http://www.antlr.org) qui est un outil écrit en Java mais qui peut générer des parsers en python,\n",
    " * ..."
   ]
  }
 ],
 "metadata": {
  "ipub": {
   "sphinx": {
    "toggle_input": true,
    "toggle_input_all": true,
    "toggle_output": true,
    "toggle_output_all": true
   }
  },
  "jupytext": {
   "cell_metadata_filter": "all, -hidden, -heading_collapsed, -run_control, -trusted",
   "notebook_metadata_filter": "all, -jupytext.text_representation.jupytext_version, -jupytext.text_representation.format_version, -language_info.version, -language_info.codemirror_mode.version, -language_info.codemirror_mode, -language_info.file_extension, -language_info.mimetype, -toc",
   "text_representation": {
    "extension": ".md",
    "format_name": "myst"
   }
  },
  "kernelspec": {
   "display_name": "Python 3 (ipykernel)",
   "language": "python",
   "name": "python3"
  },
  "language_info": {
   "name": "python",
   "nbconvert_exporter": "python",
   "pygments_lexer": "ipython3"
  },
  "livereveal": {
   "auto_select": "code",
   "auto_select_fragment": true,
   "autolaunch": false,
   "backimage": "media/nologo.png",
   "height": "100%",
   "start_slideshow_at": "selected",
   "theme": "simple",
   "transition": "fade",
   "width": "100%"
  },
  "nbhosting": {
   "title": "Expressions régulières"
  }
 },
 "nbformat": 4,
 "nbformat_minor": 5
}

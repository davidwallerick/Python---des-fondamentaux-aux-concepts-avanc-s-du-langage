{
 "cells": [
  {
   "cell_type": "markdown",
   "id": "e96d4a68",
   "metadata": {},
   "source": [
    "<div class=\"licence\">\n",
    "<span>Licence CC BY-NC-ND</span>\n",
    "<span>Thierry Parmentelat &amp; Arnaud Legout</span>\n",
    "<span><img src=\"media/both-logos-small-alpha.png\" /></span>\n",
    "</div>"
   ]
  },
  {
   "cell_type": "markdown",
   "id": "5f41ab3a",
   "metadata": {},
   "source": [
    "# Affectations et Opérations (à la `+=`)"
   ]
  },
  {
   "cell_type": "markdown",
   "id": "ea69682e",
   "metadata": {},
   "source": [
    "## Complément - niveau intermédiaire"
   ]
  },
  {
   "cell_type": "markdown",
   "id": "360242b3",
   "metadata": {},
   "source": [
    "Il existe en Python toute une famille d'opérateurs dérivés de l'affectation qui permettent de faire en une fois une opération et une affectation. En voici quelques exemples."
   ]
  },
  {
   "cell_type": "markdown",
   "id": "74ca8c0d",
   "metadata": {},
   "source": [
    "### Incrémentation"
   ]
  },
  {
   "cell_type": "markdown",
   "id": "c6ba1b7a",
   "metadata": {},
   "source": [
    "On peut facilement augmenter la valeur d'une variable numérique comme ceci :"
   ]
  },
  {
   "cell_type": "code",
   "execution_count": null,
   "id": "b73e3fcd",
   "metadata": {},
   "outputs": [],
   "source": [
    "entier = 10\n",
    "\n",
    "entier += 2\n",
    "print('entier', entier)"
   ]
  },
  {
   "cell_type": "markdown",
   "id": "a792a5cc",
   "metadata": {},
   "source": [
    "Comme on le devine peut-être, ceci est équivalent à :"
   ]
  },
  {
   "cell_type": "code",
   "execution_count": null,
   "id": "ec9260ec",
   "metadata": {},
   "outputs": [],
   "source": [
    "entier = 10\n",
    "\n",
    "entier = entier + 2\n",
    "print('entier', entier)"
   ]
  },
  {
   "cell_type": "markdown",
   "id": "d9c3c351",
   "metadata": {},
   "source": [
    "### Autres opérateurs courants"
   ]
  },
  {
   "cell_type": "markdown",
   "id": "74826eee",
   "metadata": {},
   "source": [
    "Cette forme, qui combine opération sur une variable et réaffectation du résultat à la même variable, est disponible avec tous les opérateurs courants :"
   ]
  },
  {
   "cell_type": "code",
   "execution_count": null,
   "id": "ebc06417",
   "metadata": {},
   "outputs": [],
   "source": [
    "entier -= 4\n",
    "print('après décrément', entier)\n",
    "entier *= 2\n",
    "print('après doublement', entier)\n",
    "entier /= 2\n",
    "print('mis à moitié', entier)"
   ]
  },
  {
   "cell_type": "markdown",
   "id": "09b9f8d2",
   "metadata": {},
   "source": [
    "### Types non numériques"
   ]
  },
  {
   "cell_type": "markdown",
   "id": "d8465c46",
   "metadata": {},
   "source": [
    "En réalité cette construction est disponible sur tous les types qui supportent l'opérateur en question. Par exemple, les listes (que nous verrons bientôt) peuvent être additionnées entre elles :"
   ]
  },
  {
   "cell_type": "code",
   "execution_count": null,
   "id": "90fdac9c",
   "metadata": {},
   "outputs": [],
   "source": [
    "liste = [0, 3, 5]\n",
    "print('liste', liste)\n",
    "\n",
    "liste += ['a', 'b']\n",
    "print('après ajout', liste)"
   ]
  },
  {
   "cell_type": "markdown",
   "id": "3407d170",
   "metadata": {},
   "source": [
    "Beaucoup de types supportent l'opérateur `+`, qui est sans doute de loin celui qui est le plus utilisé avec cette construction."
   ]
  },
  {
   "cell_type": "markdown",
   "id": "c76043ae",
   "metadata": {},
   "source": [
    "### Opérateurs plus abscons"
   ]
  },
  {
   "cell_type": "markdown",
   "id": "1e8b91eb",
   "metadata": {},
   "source": [
    "Signalons enfin que l'on trouve aussi cette construction avec d'autres opérateurs moins fréquents, par exemple :"
   ]
  },
  {
   "cell_type": "code",
   "execution_count": null,
   "id": "2dde0972",
   "metadata": {},
   "outputs": [],
   "source": [
    "entier = 2\n",
    "print('entier:', entier)\n",
    "entier **= 10\n",
    "print('à la puissance dix:', entier)\n",
    "entier %= 5\n",
    "print('modulo 5:', entier)"
   ]
  },
  {
   "cell_type": "markdown",
   "id": "c7827966",
   "metadata": {},
   "source": [
    "Et pour ceux qui connaissent déjà un peu Python, on peut même le faire avec des opérateurs de décalage, que nous verrons très bientôt :"
   ]
  },
  {
   "cell_type": "code",
   "execution_count": null,
   "id": "e1904d22",
   "metadata": {},
   "outputs": [],
   "source": [
    "entier <<= 2\n",
    "print('double décalage gauche:', entier)"
   ]
  }
 ],
 "metadata": {
  "jupytext": {
   "cell_metadata_filter": "all, -hidden, -heading_collapsed, -run_control, -trusted",
   "notebook_metadata_filter": "all, -jupytext.text_representation.jupytext_version, -jupytext.text_representation.format_version, -language_info.version, -language_info.codemirror_mode.version, -language_info.codemirror_mode, -language_info.file_extension, -language_info.mimetype, -toc",
   "text_representation": {
    "extension": ".md",
    "format_name": "myst"
   }
  },
  "kernelspec": {
   "display_name": "Python 3 (ipykernel)",
   "language": "python",
   "name": "python3"
  },
  "language_info": {
   "name": "python",
   "nbconvert_exporter": "python",
   "pygments_lexer": "ipython3"
  },
  "nbhosting": {
   "title": "+= et autres"
  }
 },
 "nbformat": 4,
 "nbformat_minor": 5
}

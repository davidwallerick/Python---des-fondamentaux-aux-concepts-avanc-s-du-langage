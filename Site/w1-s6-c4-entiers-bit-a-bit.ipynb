{
 "cells": [
  {
   "cell_type": "markdown",
   "id": "342fa6f0",
   "metadata": {},
   "source": [
    "<div class=\"licence\">\n",
    "<span>Licence CC BY-NC-ND</span>\n",
    "<span>Thierry Parmentelat &amp; Arnaud Legout</span>\n",
    "<span><img src=\"media/both-logos-small-alpha.png\" /></span>\n",
    "</div>"
   ]
  },
  {
   "cell_type": "markdown",
   "id": "f9007191",
   "metadata": {},
   "source": [
    "# Opérations *bit à bit* (*bitwise*)"
   ]
  },
  {
   "cell_type": "markdown",
   "id": "7d94c6e2",
   "metadata": {},
   "source": [
    "## Compléments - niveau avancé"
   ]
  },
  {
   "cell_type": "markdown",
   "id": "2d3b21b6",
   "metadata": {},
   "source": [
    "Les compléments ci-dessous expliquent des fonctions évoluées sur les entiers. Les débutants en programmation peuvent sans souci sauter cette partie en cas de difficultés."
   ]
  },
  {
   "cell_type": "markdown",
   "id": "cf62b025",
   "metadata": {},
   "source": [
    "### Opérations logiques : *ET* `&`, *OU* `|` et *OU* exclusif `^`"
   ]
  },
  {
   "cell_type": "markdown",
   "id": "ea99c412",
   "metadata": {},
   "source": [
    "Il est possible aussi de faire des opérations *bit à bit* sur les nombres entiers. Le plus simple est de penser à l'écriture du nombre en base 2.\n",
    "\n",
    "Considérons par exemple deux entiers constants dans cet exercice"
   ]
  },
  {
   "cell_type": "code",
   "execution_count": null,
   "id": "12b51214",
   "metadata": {},
   "outputs": [],
   "source": [
    "x49 = 49\n",
    "y81 = 81"
   ]
  },
  {
   "cell_type": "markdown",
   "id": "6019a842",
   "metadata": {},
   "source": [
    "Ce qui nous donne comme décomposition binaire :\n",
    "\n",
    "$\\begin{array}{rcccccc}\n",
    "x49 & = & 49 & = & 32 + 16 + 1 & \\rightarrow &(0,1,1,0,0,0,1) \\\\\n",
    "y81 & = & 81 & = & 64 + 16 + 1 & \\rightarrow &(1,0,1,0,0,0,1)\n",
    "\\end{array}$"
   ]
  },
  {
   "cell_type": "markdown",
   "id": "a270f47b",
   "metadata": {},
   "source": [
    "Pour comprendre comment passer de $32 + 16 + 1$ à $(0,1,1,0,0,0,1)$ il suffit d'observer que :\n",
    "\n",
    "$32 + 16 + 1 =\n",
    "\\textbf{0}*2^6 +\n",
    "\\textbf{1}*2^5 +\n",
    "\\textbf{1}*2^4 +\n",
    "\\textbf{0}*2^3 +\n",
    "\\textbf{0}*2^2 +\n",
    "\\textbf{0}*2^1 +\n",
    "\\textbf{1}*2^0$"
   ]
  },
  {
   "cell_type": "markdown",
   "id": "053d8bb1",
   "metadata": {},
   "source": [
    "#### *ET* logique : opérateur `&`"
   ]
  },
  {
   "cell_type": "markdown",
   "id": "ef7a36d1",
   "metadata": {},
   "source": [
    "L'opération logique `&` va faire un *et* logique bit à bit entre les opérandes, ainsi"
   ]
  },
  {
   "cell_type": "code",
   "execution_count": null,
   "id": "1e3ce66f",
   "metadata": {},
   "outputs": [],
   "source": [
    "x49 & y81"
   ]
  },
  {
   "cell_type": "markdown",
   "id": "e54ef66c",
   "metadata": {},
   "source": [
    "Et en effet :\n",
    "\n",
    "$\\begin{array}{rcl}\n",
    "x49          & \\rightarrow & (0,1,1,0,0,0,1) \\\\\n",
    "y81          & \\rightarrow & (1,0,1,0,0,0,1) \\\\\n",
    "x49\\ \\&\\ y81 & \\rightarrow & (0,0,1,0,0,0,1) \\rightarrow 16 + 1 \\rightarrow 17\n",
    "\\end{array}$"
   ]
  },
  {
   "cell_type": "markdown",
   "id": "eb102b4b",
   "metadata": {},
   "source": [
    "#### *OU* logique : opérateur `|`"
   ]
  },
  {
   "cell_type": "markdown",
   "id": "be73d633",
   "metadata": {},
   "source": [
    "De même, l'opérateur logique `|` fait simplement un *ou* logique, comme ceci :"
   ]
  },
  {
   "cell_type": "code",
   "execution_count": null,
   "id": "534b875f",
   "metadata": {},
   "outputs": [],
   "source": [
    "x49 | y81"
   ]
  },
  {
   "cell_type": "markdown",
   "id": "27024091",
   "metadata": {},
   "source": [
    "On s'y retrouve parce que :\n",
    "\n",
    "$\\begin{array}{rcl}\n",
    "x49         & \\rightarrow & (0,1,1,0,0,0,1) \\\\\n",
    "y81         & \\rightarrow & (1,0,1,0,0,0,1) \\\\\n",
    "x49\\ |\\ y81 & \\rightarrow & (1,1,1,0,0,0,1) \\rightarrow 64 + 32 + 16 + 1 \\rightarrow 113\n",
    "\\end{array}$"
   ]
  },
  {
   "cell_type": "markdown",
   "id": "d876dd7e",
   "metadata": {},
   "source": [
    "#### *OU* exclusif : opérateur `^`"
   ]
  },
  {
   "cell_type": "markdown",
   "id": "17e4cf1d",
   "metadata": {},
   "source": [
    "Enfin, on peut également faire la même opération à base de *ou* exclusif avec l'opérateur `^` :"
   ]
  },
  {
   "cell_type": "code",
   "execution_count": null,
   "id": "37922ab9",
   "metadata": {},
   "outputs": [],
   "source": [
    "x49 ^ y81"
   ]
  },
  {
   "cell_type": "markdown",
   "id": "2a4226e0",
   "metadata": {},
   "source": [
    "Je vous laisse le soin de décortiquer le calcul à titre d'exercice (le *ou* exclusif de deux bits est vrai si et seulement si exactement une des deux entrées est vraie)."
   ]
  },
  {
   "cell_type": "markdown",
   "id": "b919a447",
   "metadata": {},
   "source": [
    "### Décalages"
   ]
  },
  {
   "cell_type": "markdown",
   "id": "ba1d42a5",
   "metadata": {},
   "source": [
    "Un décalage **à gauche** de, par exemple, 4 positions, revient à décaler tout le champ de bits de 4 cases à gauche (les 4 nouveaux bits insérés sont toujours des 0). C'est donc équivalent à une **multiplication** par $2^4 = 16$ :"
   ]
  },
  {
   "cell_type": "code",
   "execution_count": null,
   "id": "13061e4b",
   "metadata": {},
   "outputs": [],
   "source": [
    "x49 << 4"
   ]
  },
  {
   "cell_type": "markdown",
   "id": "b635672d",
   "metadata": {},
   "source": [
    "$\\begin{array}{rcl}\n",
    "x49        & \\rightarrow & (0,1,1,0,0,0,1) \\\\\n",
    "x49\\ <<\\ 4 & \\rightarrow & (0,1,1,0,0,0,1,0,0,0,0) \\rightarrow 512 + 256 + 16 \\rightarrow 784\n",
    "\\end{array}$"
   ]
  },
  {
   "cell_type": "markdown",
   "id": "1a5e6e44",
   "metadata": {},
   "source": [
    "De la même manière, le décalage à **droite** de $n$ revient à une **division** par $2^n$ (plus précisément, le quotient de la division) :"
   ]
  },
  {
   "cell_type": "code",
   "execution_count": null,
   "id": "6246922b",
   "metadata": {},
   "outputs": [],
   "source": [
    "x49 >> 4"
   ]
  },
  {
   "cell_type": "markdown",
   "id": "cb9787e5",
   "metadata": {},
   "source": [
    "$\\begin{array}{rcl}\n",
    "x49        & \\rightarrow &         (0,1,1,0,0,0,1) \\\\\n",
    "x49\\ >>\\ 4 & \\rightarrow & (0,0,0,0,0,1,1) \\rightarrow 2 + 1 \\rightarrow 3\n",
    "\\end{array}$"
   ]
  },
  {
   "cell_type": "markdown",
   "id": "291cbbf9",
   "metadata": {},
   "source": [
    "### Une astuce"
   ]
  },
  {
   "cell_type": "markdown",
   "id": "1979b818",
   "metadata": {},
   "source": [
    "On peut utiliser la fonction *built-in* `bin` pour calculer la représentation binaire d'un entier. Attention, la valeur de retour est une chaîne de caractères de type `str` :"
   ]
  },
  {
   "cell_type": "code",
   "execution_count": null,
   "id": "f47e94fd",
   "metadata": {},
   "outputs": [],
   "source": [
    "bin(x49)"
   ]
  },
  {
   "cell_type": "markdown",
   "id": "70764123",
   "metadata": {},
   "source": [
    "Dans l'autre sens, on peut aussi entrer un entier directement en base 2 comme ceci :"
   ]
  },
  {
   "cell_type": "code",
   "execution_count": null,
   "id": "61df3534",
   "metadata": {},
   "outputs": [],
   "source": [
    "x49bis = 0b110001\n",
    "x49bis == x49"
   ]
  },
  {
   "cell_type": "markdown",
   "id": "57f3a4d7",
   "metadata": {},
   "source": [
    "Ici, comme on le voit, `x49bis` est bien un entier."
   ]
  },
  {
   "cell_type": "markdown",
   "id": "1bbabe39",
   "metadata": {},
   "source": [
    "### Pour en savoir plus"
   ]
  },
  {
   "cell_type": "markdown",
   "id": "eb05a2eb",
   "metadata": {},
   "source": [
    "[Section de la documentation Python](https://docs.python.org/3/library/stdtypes.html#bitwise-operations-on-integer-types)."
   ]
  }
 ],
 "metadata": {
  "jupytext": {
   "cell_metadata_filter": "all, -hidden, -heading_collapsed, -run_control, -trusted",
   "notebook_metadata_filter": "all, -jupytext.text_representation.jupytext_version, -jupytext.text_representation.format_version, -language_info.version, -language_info.codemirror_mode.version, -language_info.codemirror_mode, -language_info.file_extension, -language_info.mimetype, -toc",
   "text_representation": {
    "extension": ".md",
    "format_name": "myst"
   }
  },
  "kernelspec": {
   "display_name": "Python 3 (ipykernel)",
   "language": "python",
   "name": "python3"
  },
  "language_info": {
   "name": "python",
   "nbconvert_exporter": "python",
   "pygments_lexer": "ipython3"
  },
  "nbhosting": {
   "title": "Opérations bitwise"
  }
 },
 "nbformat": 4,
 "nbformat_minor": 5
}

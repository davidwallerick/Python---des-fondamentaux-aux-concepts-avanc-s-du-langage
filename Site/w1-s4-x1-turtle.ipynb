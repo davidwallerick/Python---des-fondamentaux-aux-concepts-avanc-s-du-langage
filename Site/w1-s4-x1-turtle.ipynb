{
 "cells": [
  {
   "cell_type": "markdown",
   "id": "f4b9969f",
   "metadata": {},
   "source": [
    "<div class=\"licence\">\n",
    "<span>Licence CC BY-NC-ND</span>\n",
    "<span>Thierry Parmentelat &amp; Arnaud Legout</span>\n",
    "<span><img src=\"media/both-logos-small-alpha.png\" /></span>\n",
    "</div>"
   ]
  },
  {
   "cell_type": "markdown",
   "id": "1123d0a0",
   "metadata": {},
   "source": [
    "# Dessiner un carré"
   ]
  },
  {
   "cell_type": "markdown",
   "id": "f8634fdd",
   "metadata": {},
   "source": [
    "## Exercice - niveau intermédiaire"
   ]
  },
  {
   "cell_type": "markdown",
   "id": "ffb2806f",
   "metadata": {},
   "source": [
    "Voici un tout petit programme qui dessine un carré."
   ]
  },
  {
   "cell_type": "markdown",
   "id": "7436d059",
   "metadata": {},
   "source": [
    "Il utilise le module `turtle`, conçu précisément à des fins pédagogiques. Pour des raisons techniques, le module `turtle` n'est **pas disponible** au travers de la plateforme FUN."
   ]
  },
  {
   "cell_type": "markdown",
   "id": "f6bd85d5",
   "metadata": {},
   "source": [
    "**Il est donc inutile d'essayer d'exécuter ce programme depuis le notebook**. L'objectif de cet exercice est plutôt de vous entraîner à télécharger ce programme en utilisant le menu *\"File -> Download as -> Python\"*, puis à le charger dans votre IDLE pour l'exécuter sur votre machine."
   ]
  },
  {
   "cell_type": "markdown",
   "id": "976d6903",
   "metadata": {},
   "source": [
    "**Attention** également à sauver le programme téléchargé **sous un autre nom** que `turtle.py`,  car sinon vous allez empêcher Python de trouver le module standard `turtle` ; appelez-le par exemple `turtle_basic.py`."
   ]
  },
  {
   "cell_type": "code",
   "execution_count": null,
   "id": "169357d8",
   "metadata": {},
   "outputs": [],
   "source": [
    "# on a besoin du module turtle\n",
    "import turtle"
   ]
  },
  {
   "cell_type": "markdown",
   "id": "40785719",
   "metadata": {},
   "source": [
    "On commence par définir une fonction qui dessine un carré de côté `length` :"
   ]
  },
  {
   "cell_type": "code",
   "execution_count": null,
   "id": "0532f4eb",
   "metadata": {},
   "outputs": [],
   "source": [
    "def square(length):\n",
    "    \"have the turtle draw a square of side <length>\"\n",
    "    for side in range(4):\n",
    "        turtle.forward(length)\n",
    "        turtle.left(90)"
   ]
  },
  {
   "cell_type": "markdown",
   "id": "c9cfa65f",
   "metadata": {},
   "source": [
    "Maintenant on commence par initialiser la tortue :"
   ]
  },
  {
   "cell_type": "code",
   "execution_count": null,
   "id": "7d4ac050",
   "metadata": {},
   "outputs": [],
   "source": [
    "turtle.reset()"
   ]
  },
  {
   "cell_type": "markdown",
   "id": "b3df0dc0",
   "metadata": {},
   "source": [
    "On peut alors dessiner notre carré :"
   ]
  },
  {
   "cell_type": "code",
   "execution_count": null,
   "id": "8556461e",
   "metadata": {},
   "outputs": [],
   "source": [
    "square(200)"
   ]
  },
  {
   "cell_type": "markdown",
   "id": "1332ade3",
   "metadata": {},
   "source": [
    "Et pour finir on attend que l'utilisateur clique dans la fenêtre de la tortue, et alors on termine :"
   ]
  },
  {
   "cell_type": "code",
   "execution_count": null,
   "id": "f1c9d4b8",
   "metadata": {},
   "outputs": [],
   "source": [
    "turtle.exitonclick()"
   ]
  },
  {
   "cell_type": "markdown",
   "id": "67d24c54",
   "metadata": {},
   "source": [
    "## Exercice - niveau avancé"
   ]
  },
  {
   "cell_type": "markdown",
   "id": "c0268f86",
   "metadata": {},
   "source": [
    "Naturellement vous pouvez vous amuser à modifier ce code pour dessiner des choses un peu plus amusantes.\n",
    "\n",
    "Dans ce cas, commencez par chercher \"*module python turtle*\" dans votre moteur de recherche favori, pour localiser la documentation du module [`turtle`](https://docs.python.org/3/library/turtle.html).\n",
    "\n",
    "Vous trouverez quelques exemples pour commencer ici :\n",
    "\n",
    " * [turtle_multi_squares.py](media/turtle_multi_squares.py) pour dessiner des carrés à l'emplacement de la souris en utilisant plusieurs tortues ;\n",
    " * [turtle_fractal.py](media/turtle_fractal.py) pour dessiner une fractale simple ;\n",
    " * [turtle_fractal_reglable.py](media/turtle_fractal_reglable.py) une variation sur la fractale, plus paramétrable."
   ]
  }
 ],
 "metadata": {
  "jupytext": {
   "cell_metadata_filter": "all, -hidden, -heading_collapsed, -run_control, -trusted",
   "notebook_metadata_filter": "all, -jupytext.text_representation.jupytext_version, -jupytext.text_representation.format_version, -language_info.version, -language_info.codemirror_mode.version, -language_info.codemirror_mode, -language_info.file_extension, -language_info.mimetype, -toc",
   "text_representation": {
    "extension": ".md",
    "format_name": "myst"
   }
  },
  "kernelspec": {
   "display_name": "Python 3 (ipykernel)",
   "language": "python",
   "name": "python3"
  },
  "language_info": {
   "name": "python",
   "nbconvert_exporter": "python",
   "pygments_lexer": "ipython3"
  },
  "nbhosting": {
   "title": "Dessiner un carré"
  }
 },
 "nbformat": 4,
 "nbformat_minor": 5
}

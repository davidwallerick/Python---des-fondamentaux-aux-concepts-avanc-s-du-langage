{
 "cells": [
  {
   "cell_type": "markdown",
   "id": "ebe18465",
   "metadata": {},
   "source": [
    "<div class=\"licence\">\n",
    "<span>Licence CC BY-NC-ND</span>\n",
    "<span>Thierry Parmentelat &amp; Arnaud Legout</span>\n",
    "<span><img src=\"media/both-logos-small-alpha.png\" /></span>\n",
    "</div>"
   ]
  },
  {
   "cell_type": "markdown",
   "id": "1cf722e2",
   "metadata": {},
   "source": [
    "# Les mots-clés de Python"
   ]
  },
  {
   "cell_type": "markdown",
   "id": "36c41ef3",
   "metadata": {},
   "source": [
    "### Mots réservés"
   ]
  },
  {
   "cell_type": "markdown",
   "id": "41a6e227",
   "metadata": {},
   "source": [
    "Il existe en Python certains mots spéciaux, qu'on appelle des mots-clés, ou *keywords* en anglais, qui sont réservés et **ne peuvent pas être utilisés** comme identifiants, c'est-à-dire comme un nom de variable."
   ]
  },
  {
   "cell_type": "markdown",
   "id": "93f080dc",
   "metadata": {},
   "source": [
    "C'est le cas par exemple pour l'instruction `if`, que nous verrons prochainement, qui permet bien entendu d'exécuter tel ou tel code selon le résultat d'un test."
   ]
  },
  {
   "cell_type": "code",
   "execution_count": null,
   "id": "df07ac73",
   "metadata": {},
   "outputs": [],
   "source": [
    "variable = 15\n",
    "if variable <= 10:\n",
    "    print(\"en dessous de la moyenne\")\n",
    "else:\n",
    "    print(\"au dessus\")"
   ]
  },
  {
   "cell_type": "markdown",
   "id": "51af16bc",
   "metadata": {},
   "source": [
    "À cause de la présence de cette instruction dans le langage, il n'est pas autorisé d'appeler une variable `if`."
   ]
  },
  {
   "cell_type": "code",
   "execution_count": null,
   "id": "deb65b2e",
   "metadata": {},
   "outputs": [],
   "source": [
    "# interdit, if est un mot-clé\n",
    "if = 1"
   ]
  },
  {
   "cell_type": "markdown",
   "id": "798018c1",
   "metadata": {},
   "source": [
    "### Liste complète"
   ]
  },
  {
   "cell_type": "markdown",
   "id": "66208bb0",
   "metadata": {},
   "source": [
    "Voici la liste complète des mots-clés :"
   ]
  },
  {
   "cell_type": "markdown",
   "id": "5f2fc247",
   "metadata": {},
   "source": [
    "| &nbsp;    |   &nbsp; | &nbsp;  | &nbsp;       | &nbsp; |\n",
    "|----------:|---------:|--------:|-------------:|-------:|\n",
    "| **False** | **await** | else    | import       | pass   |\n",
    "| **None**  | break    | except  | in           | raise  |\n",
    "| **True**  | class    | finally | is           | return |\n",
    "| and       | continue | for     | lambda       | try    |\n",
    "| as        | def      | from    | **nonlocal** | while  |\n",
    "| assert    | del      | global  | not          | with   |\n",
    "| **async** | elif     | if      | or           | yield  |"
   ]
  },
  {
   "cell_type": "markdown",
   "id": "3d360926",
   "metadata": {},
   "source": [
    "Nous avons indiqué **en gras** les nouveautés **par rapport à Python 2**  (sachant que réciproquement `exec` et `print` ont perdu leur statut de mot-clé depuis Python 2, ce sont maintenant des fonctions)."
   ]
  },
  {
   "cell_type": "markdown",
   "id": "79742aea",
   "metadata": {},
   "source": [
    "Il vous faudra donc y prêter attention, surtout au début, mais avec un tout petit peu d'habitude vous saurez rapidement les éviter.\n",
    "\n",
    "Vous remarquerez aussi que tous les bons éditeurs de texte supportant du code Python vont colorer les mots-clés différemment des variables. Par exemple, IDLE colorie les mots-clés en orange, vous pouvez donc très facilement vous rendre compte que vous allez, par erreur, en utiliser un comme nom de variable.\n",
    "\n",
    "Cette fonctionnalité, dite de *coloration syntaxique*, permet d'identifier d'un coup d'œil, grâce à un code de couleur, le rôle des différents éléments de votre code : variables, mots-clés, etc. D'une manière générale, nous vous déconseillons fortement d'utiliser un éditeur de texte qui n'offre pas cette fonctionnalité de coloration syntaxique."
   ]
  },
  {
   "cell_type": "markdown",
   "id": "e5472edd",
   "metadata": {},
   "source": [
    "### Pour en savoir plus"
   ]
  },
  {
   "cell_type": "markdown",
   "id": "6d85ab38",
   "metadata": {},
   "source": [
    "On peut se reporter à cette page :\n",
    "\n",
    "<https://docs.python.org/3/reference/lexical_analysis.html#keywords>"
   ]
  }
 ],
 "metadata": {
  "jupytext": {
   "cell_metadata_filter": "all, -hidden, -heading_collapsed, -run_control, -trusted",
   "notebook_metadata_filter": "all, -jupytext.text_representation.jupytext_version, -jupytext.text_representation.format_version, -language_info.version, -language_info.codemirror_mode.version, -language_info.codemirror_mode, -language_info.file_extension, -language_info.mimetype, -toc",
   "text_representation": {
    "extension": ".md",
    "format_name": "myst"
   }
  },
  "kernelspec": {
   "display_name": "Python 3 (ipykernel)",
   "language": "python",
   "name": "python3"
  },
  "language_info": {
   "name": "python",
   "nbconvert_exporter": "python",
   "pygments_lexer": "ipython3"
  },
  "nbhosting": {
   "title": "Les mots-clés"
  }
 },
 "nbformat": 4,
 "nbformat_minor": 5
}

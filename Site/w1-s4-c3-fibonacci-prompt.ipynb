{
 "cells": [
  {
   "cell_type": "markdown",
   "id": "1e39da80",
   "metadata": {},
   "source": [
    "<div class=\"licence\">\n",
    "<span>Licence CC BY-NC-ND</span>\n",
    "<span>Thierry Parmentelat &amp; Arnaud Legout</span>\n",
    "<span><img src=\"media/both-logos-small-alpha.png\" /></span>\n",
    "</div>"
   ]
  },
  {
   "cell_type": "markdown",
   "id": "d614c12d",
   "metadata": {},
   "source": [
    "# La suite de Fibonacci"
   ]
  },
  {
   "cell_type": "markdown",
   "id": "ea4ee186",
   "metadata": {},
   "source": [
    "## Complément - niveau basique"
   ]
  },
  {
   "cell_type": "markdown",
   "id": "c693b410",
   "metadata": {},
   "source": [
    "Voici un premier exemple de code qui tourne.\n",
    "\n",
    "Nous allons commencer par le faire tourner dans ce notebook. Nous verrons en fin de séance comment le faire fonctionner localement sur votre ordinateur."
   ]
  },
  {
   "cell_type": "markdown",
   "id": "6ff14b7a",
   "metadata": {},
   "source": [
    "Le but de ce programme est de calculer la [suite de Fibonacci](https://fr.wikipedia.org/wiki/Suite_de_Fibonacci), qui est définie comme ceci&nbsp;:\n",
    "\n",
    "* $u_0 = 0$\n",
    "* $u_1 = 1$\n",
    "* $\\forall n >= 2, u_n = u_{n-1} + u_{n-2}$\n",
    "\n",
    "Ce qui donne pour les premières valeurs :"
   ]
  },
  {
   "cell_type": "markdown",
   "id": "f6495e5d",
   "metadata": {},
   "source": [
    "| n  | fibonacci(n)  |\n",
    "|---:|--------------:|\n",
    "| 0  | 0             |\n",
    "| 1  | 1             |\n",
    "| 2  | 1             |\n",
    "| 3  | 2             |\n",
    "| 4  | 3             |\n",
    "| 5  | 5             |\n",
    "| 6  | 8             |\n",
    "| 7  | 13            |"
   ]
  },
  {
   "cell_type": "markdown",
   "id": "afe62536",
   "metadata": {},
   "source": [
    "On commence par définir la fonction `fibonacci` comme il suit. Naturellement vous n'avez pas encore tout le bagage pour lire ce code, ne vous inquiétez pas, nous allons vous expliquer tout ça dans les prochaines semaines. Le but est uniquement de vous montrer un fonctionnement de l'interpréteur Python et de IDLE."
   ]
  },
  {
   "cell_type": "code",
   "execution_count": null,
   "id": "342882ca",
   "metadata": {},
   "outputs": [],
   "source": [
    "def fibonacci(n):\n",
    "    \"retourne le nombre de fibonacci pour l'entier n\"\n",
    "    # pour les deux petites valeurs de n, on peut retourner n\n",
    "    if n <= 1:\n",
    "        return n\n",
    "    # sinon on initialise f2 pour n-2 et f1 pour n-1\n",
    "    f2, f1 = 0, 1\n",
    "    # et on itère n-1 fois pour additionner\n",
    "    for i in range(2, n + 1):\n",
    "        f2, f1 = f1, f1 + f2\n",
    "#        print(i, f2, f1)\n",
    "    # le résultat est dans f1\n",
    "    return f1"
   ]
  },
  {
   "cell_type": "markdown",
   "id": "855c3ccf",
   "metadata": {},
   "source": [
    "Pour en faire un programme utilisable on va demander à l'utilisateur de rentrer un nombre&nbsp;; il faut le convertir en entier car `input` renvoie une chaîne de caractères :"
   ]
  },
  {
   "cell_type": "code",
   "execution_count": null,
   "id": "82e41dd0",
   "metadata": {},
   "outputs": [],
   "source": [
    "entier = int(input(\"Entrer un entier \"))"
   ]
  },
  {
   "cell_type": "markdown",
   "id": "32211455",
   "metadata": {},
   "source": [
    "On imprime le résultat :"
   ]
  },
  {
   "cell_type": "code",
   "execution_count": null,
   "id": "098b4a34",
   "metadata": {},
   "outputs": [],
   "source": [
    "print(f\"fibonacci({entier}) = {fibonacci(entier)}\")"
   ]
  },
  {
   "cell_type": "markdown",
   "id": "108bf494",
   "metadata": {},
   "source": [
    "### Exercice"
   ]
  },
  {
   "cell_type": "markdown",
   "id": "2b867792",
   "metadata": {},
   "source": [
    "Vous pouvez donc à présent&nbsp;:\n",
    "\n",
    "* exécuter le code dans ce notebook\n",
    "* télécharger ce code sur votre disque comme un fichier `fibonacci_prompt.py`\n",
    "  * utiliser pour cela le menu *\"File -> Download as -> Python\"*\n",
    "  * et **renommer le fichier obtenu** au besoin\n",
    "* l'exécuter sous IDLE\n",
    "* le modifier, par exemple pour afficher les résultats intermédiaires\n",
    "  * on a laissé exprès une fonction `print` en commentaire que vous pouvez réactiver simplement\n",
    "* l'exécuter avec l'interpréteur Python comme ceci :\n",
    "\n",
    "```bash\n",
    "$ python3 fibonacci_prompt.py\n",
    "```"
   ]
  },
  {
   "cell_type": "markdown",
   "id": "a62ebaae",
   "metadata": {},
   "source": [
    "Ce code est volontairement simple et peu robuste pour ne pas l'alourdir. Par exemple, ce programme se comporte mal si vous entrez un entier négatif."
   ]
  },
  {
   "cell_type": "markdown",
   "id": "7ed219ee",
   "metadata": {},
   "source": [
    "Nous allons voir tout de suite une version légèrement différente qui va vous permettre de donner la valeur d'entrée sur la ligne de commande."
   ]
  }
 ],
 "metadata": {
  "jupytext": {
   "cell_metadata_filter": "all, -hidden, -heading_collapsed, -run_control, -trusted",
   "notebook_metadata_filter": "all, -jupytext.text_representation.jupytext_version, -jupytext.text_representation.format_version, -language_info.version, -language_info.codemirror_mode.version, -language_info.codemirror_mode, -language_info.file_extension, -language_info.mimetype, -toc",
   "text_representation": {
    "extension": ".md",
    "format_name": "myst"
   }
  },
  "kernelspec": {
   "display_name": "Python 3 (ipykernel)",
   "language": "python",
   "name": "python3"
  },
  "language_info": {
   "name": "python",
   "nbconvert_exporter": "python",
   "pygments_lexer": "ipython3"
  },
  "nbhosting": {
   "title": "Fibonacci"
  }
 },
 "nbformat": 4,
 "nbformat_minor": 5
}

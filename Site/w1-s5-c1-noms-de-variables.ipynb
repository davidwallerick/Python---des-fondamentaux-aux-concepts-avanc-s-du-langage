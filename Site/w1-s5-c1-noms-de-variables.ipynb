{
 "cells": [
  {
   "cell_type": "markdown",
   "id": "699db34b",
   "metadata": {},
   "source": [
    "<div class=\"licence\">\n",
    "<span>Licence CC BY-NC-ND</span>\n",
    "<span>Thierry Parmentelat &amp; Arnaud Legout</span>\n",
    "<span><img src=\"media/both-logos-small-alpha.png\" /></span>\n",
    "</div>"
   ]
  },
  {
   "cell_type": "markdown",
   "id": "5a166f29",
   "metadata": {},
   "source": [
    "# Noms de variables"
   ]
  },
  {
   "cell_type": "markdown",
   "id": "d5e72607",
   "metadata": {},
   "source": [
    "## Complément - niveau basique"
   ]
  },
  {
   "cell_type": "markdown",
   "id": "78748f5f",
   "metadata": {},
   "source": [
    "Revenons sur les noms de variables autorisés ou non."
   ]
  },
  {
   "cell_type": "markdown",
   "id": "dbabdc00",
   "metadata": {},
   "source": [
    "Les noms les plus simples sont constitués de lettres. Par exemple :"
   ]
  },
  {
   "cell_type": "code",
   "execution_count": null,
   "id": "2cac3d55",
   "metadata": {},
   "outputs": [],
   "source": [
    "factoriel = 1"
   ]
  },
  {
   "cell_type": "markdown",
   "id": "efe36fb6",
   "metadata": {},
   "source": [
    "On peut utiliser aussi les majuscules, mais attention cela définit une variable différente. Ainsi :"
   ]
  },
  {
   "cell_type": "code",
   "execution_count": null,
   "id": "443799c7",
   "metadata": {},
   "outputs": [],
   "source": [
    "Factoriel = 100\n",
    "factoriel == Factoriel"
   ]
  },
  {
   "cell_type": "markdown",
   "id": "15637892",
   "metadata": {},
   "source": [
    "Le signe `==` permet de tester si deux variables ont la même valeur.\n",
    "Si les variables ont la même valeur, le test retournera `True`, et `False` sinon. On y reviendra bien entendu."
   ]
  },
  {
   "cell_type": "markdown",
   "id": "f83912ca",
   "metadata": {},
   "source": [
    "### Conventions habituelles"
   ]
  },
  {
   "cell_type": "markdown",
   "id": "71aac248",
   "metadata": {},
   "source": [
    "En règle générale, on utilise **uniquement des minuscules** pour désigner les variables simples (ainsi d'ailleurs que pour les noms de fonctions), les majuscules sont réservées en principe pour d'autres sortes de variables, comme les noms de classe, que nous verrons ultérieurement.\n",
    "\n",
    "Notons qu'il s'agit uniquement d'une convention, ceci n'est pas imposé par le langage lui-même."
   ]
  },
  {
   "cell_type": "markdown",
   "id": "a9f91b38",
   "metadata": {},
   "source": [
    "Pour des raisons de lisibilité, il est également possible d'utiliser le tiret bas `_` dans les noms de variables. On préfèrera ainsi :"
   ]
  },
  {
   "cell_type": "code",
   "execution_count": null,
   "id": "158bcadb",
   "metadata": {},
   "outputs": [],
   "source": [
    "age_moyen = 75 # oui"
   ]
  },
  {
   "cell_type": "markdown",
   "id": "c4e2df79",
   "metadata": {},
   "source": [
    "plutôt que ceci (bien qu'autorisé par le langage) :"
   ]
  },
  {
   "cell_type": "code",
   "execution_count": null,
   "id": "99fcce4e",
   "metadata": {},
   "outputs": [],
   "source": [
    "AgeMoyen = 75 # autorisé, mais non"
   ]
  },
  {
   "cell_type": "markdown",
   "id": "083762c3",
   "metadata": {},
   "source": [
    "On peut également utiliser des chiffres dans les noms de variables comme par exemple :"
   ]
  },
  {
   "cell_type": "code",
   "execution_count": null,
   "id": "cfbefc8e",
   "metadata": {},
   "outputs": [],
   "source": [
    "age_moyen_dept75 = 80"
   ]
  },
  {
   "cell_type": "markdown",
   "id": "42dccf92",
   "metadata": {},
   "source": [
    "avec la restriction toutefois que le premier caractère ne peut pas être un chiffre, cette affectation est donc refusée :"
   ]
  },
  {
   "cell_type": "code",
   "execution_count": null,
   "id": "b8e9a664",
   "metadata": {},
   "outputs": [],
   "source": [
    "75_age_moyen = 80 # erreur de syntaxe"
   ]
  },
  {
   "cell_type": "markdown",
   "id": "2059a207",
   "metadata": {},
   "source": [
    "### Le tiret bas comme premier caractère"
   ]
  },
  {
   "cell_type": "markdown",
   "id": "95d339b4",
   "metadata": {},
   "source": [
    "Il est par contre, possible de faire commencer un nom de variable par un tiret bas comme premier caractère&nbsp;; toutefois, à ce stade, nous vous déconseillons d'utiliser cette pratique qui est réservée à des conventions de nommage bien spécifiques."
   ]
  },
  {
   "cell_type": "code",
   "execution_count": null,
   "id": "4cec1919",
   "metadata": {},
   "outputs": [],
   "source": [
    "_autorise_mais_deconseille = 'Voir le PEP 008'"
   ]
  },
  {
   "cell_type": "markdown",
   "id": "1b222fd4",
   "metadata": {},
   "source": [
    "Et en tout cas, il est **fortement déconseillé** d'utiliser des noms de la forme `__variable__` qui sont réservés au langage. Nous reviendrons sur ce point dans le futur, mais regardez par exemple cette variable que nous n'avons définie nulle part mais qui pourtant existe bel et bien :"
   ]
  },
  {
   "cell_type": "code",
   "execution_count": null,
   "id": "5f94abfa",
   "metadata": {},
   "outputs": [],
   "source": [
    "__name__  # ne définissez pas vous-même de variables de ce genre"
   ]
  },
  {
   "cell_type": "markdown",
   "id": "48df43b9",
   "metadata": {},
   "source": [
    "### Ponctuation"
   ]
  },
  {
   "cell_type": "markdown",
   "id": "332bb9c2",
   "metadata": {},
   "source": [
    "Dans la plage des caractères ASCII, il n'est **pas possible** d'utiliser d'autres caractères que les caractères alphanumériques et le tiret bas. Notamment le tiret haut `-` est interprété comme l'opération de soustraction. Attention donc à cette erreur fréquente :"
   ]
  },
  {
   "cell_type": "code",
   "execution_count": null,
   "id": "fdc26a36",
   "metadata": {},
   "outputs": [],
   "source": [
    "age-moyen = 75  # erreur : en fait python l'interprète comme 'age - moyen = 75'"
   ]
  },
  {
   "cell_type": "markdown",
   "id": "6ef4b51a",
   "metadata": {},
   "source": [
    "### Caractères exotiques"
   ]
  },
  {
   "cell_type": "markdown",
   "id": "b3eff75a",
   "metadata": {},
   "source": [
    "En Python 3, il est maintenant aussi possible d'utiliser des caractères Unicode dans les identificateurs :"
   ]
  },
  {
   "cell_type": "code",
   "execution_count": null,
   "id": "b07a0552",
   "metadata": {},
   "outputs": [],
   "source": [
    "# les caractères accentués sont permis\n",
    "nom_élève = \"Jules Maigret\""
   ]
  },
  {
   "cell_type": "code",
   "execution_count": null,
   "id": "652d8842",
   "metadata": {},
   "outputs": [],
   "source": [
    "# ainsi que l'alphabet grec\n",
    "from math import cos, pi as π\n",
    "θ = π / 4\n",
    "cos(θ)"
   ]
  },
  {
   "cell_type": "markdown",
   "id": "27607557",
   "metadata": {},
   "source": [
    "Tous les caractères Unicode ne sont pas permis - heureusement car cela serait source de confusion. Nous citons dans les références les documents qui précisent quels sont exactement les caractères autorisés."
   ]
  },
  {
   "cell_type": "code",
   "execution_count": null,
   "id": "569d30e6",
   "metadata": {},
   "outputs": [],
   "source": [
    "# ce caractère n'est pas autorisé, car il\n",
    "# est considéré comme un signe mathématique (produit)\n",
    "∏ = 10"
   ]
  },
  {
   "cell_type": "code",
   "execution_count": null,
   "id": "f57e8fc2",
   "metadata": {},
   "outputs": [],
   "source": [
    "# ce caractère est encore différent, c'est aussi\n",
    "# un pi grec mais pas le même, cette fois-ci\n",
    "# c'est un nom de variable acceptable mais \n",
    "# il n'est pas défini\n",
    "𝞟"
   ]
  },
  {
   "cell_type": "markdown",
   "id": "efd792e6",
   "metadata": {},
   "source": [
    "#### Conseil\n",
    "\n",
    "Il est **très vivement** recommandé :\n",
    "\n",
    "* tout d'abord de coder **en anglais** ;\n",
    "* ensuite de **ne pas** définir des identificateurs avec des caractères non ASCII, dans toute la mesure du possible , voyez par exemple la confusion que peut créer le fait de nommer un identificateur π ou 𝞟 ou ∏ ;\n",
    "* enfin si vous utilisez un encodage autre que UTF-8, vous **devez** bien **spécifier l'encodage** utilisé dans votre fichier source&nbsp;; nous y reviendrons en deuxième semaine."
   ]
  },
  {
   "cell_type": "markdown",
   "id": "15c37609",
   "metadata": {},
   "source": [
    "### Pour en savoir plus"
   ]
  },
  {
   "cell_type": "markdown",
   "id": "c3876b70",
   "metadata": {},
   "source": [
    "Pour les esprits curieux, Guido van Rossum, le fondateur de Python, est le co-auteur d'un document qui décrit les conventions de codage à utiliser dans la bibliothèque standard Python. Ces règles sont plus restrictives que ce que le langage permet de faire, mais constituent une lecture intéressante si vous projetez d'écrire beaucoup de Python.\n",
    "\n",
    "Voir dans le PEP 008 [la section consacrée aux règles de nommage - (en anglais)](http://legacy.python.org/dev/peps/pep-0008/#descriptive-naming-styles)"
   ]
  },
  {
   "cell_type": "markdown",
   "id": "5e96e306",
   "metadata": {},
   "source": [
    "Voir enfin, au sujet des caractères exotiques dans les identificateurs :\n",
    "\n",
    "* [le PEP 3131](https://www.python.org/dev/peps/pep-3131/) qui définit les caractères exotiques autorisés, et qui repose à son tour sur\n",
    "* [http://www.unicode.org/reports/tr31/](http://www.unicode.org/reports/tr31/) (très technique !)"
   ]
  }
 ],
 "metadata": {
  "jupytext": {
   "cell_metadata_filter": "all, -hidden, -heading_collapsed, -run_control, -trusted",
   "notebook_metadata_filter": "all, -jupytext.text_representation.jupytext_version, -jupytext.text_representation.format_version, -language_info.version, -language_info.codemirror_mode.version, -language_info.codemirror_mode, -language_info.file_extension, -language_info.mimetype, -toc",
   "text_representation": {
    "extension": ".md",
    "format_name": "myst"
   }
  },
  "kernelspec": {
   "display_name": "Python 3 (ipykernel)",
   "language": "python",
   "name": "python3"
  },
  "language_info": {
   "name": "python",
   "nbconvert_exporter": "python",
   "pygments_lexer": "ipython3"
  },
  "nbhosting": {
   "title": "Noms de variables"
  }
 },
 "nbformat": 4,
 "nbformat_minor": 5
}

{
 "cells": [
  {
   "cell_type": "markdown",
   "id": "27277912",
   "metadata": {},
   "source": [
    "<div class=\"licence\">\n",
    "<span>Licence CC BY-NC-ND</span>\n",
    "<span>Thierry Parmentelat &amp; Arnaud Legout</span>\n",
    "<span><img src=\"media/both-logos-small-alpha.png\" /></span>\n",
    "</div>"
   ]
  },
  {
   "cell_type": "markdown",
   "id": "c6a959d1",
   "metadata": {},
   "source": [
    "# Utiliser Python comme une calculette"
   ]
  },
  {
   "cell_type": "markdown",
   "id": "037f6bda",
   "metadata": {},
   "source": [
    "Lorsque vous démarrez l'interprète Python, vous disposez en fait d'une calculette, par exemple, vous pouvez taper :"
   ]
  },
  {
   "cell_type": "code",
   "execution_count": null,
   "id": "db78ec25",
   "metadata": {},
   "outputs": [],
   "source": [
    "20 * 60"
   ]
  },
  {
   "cell_type": "markdown",
   "id": "72dcba2c",
   "metadata": {},
   "source": [
    "Les règles de **priorité** entre les opérateurs sont habituelles, les produits et divisions sont évalués en premier, ensuite les sommes et soustractions :"
   ]
  },
  {
   "cell_type": "code",
   "execution_count": null,
   "id": "7508972f",
   "metadata": {},
   "outputs": [],
   "source": [
    "2 * 30 + 10 * 5"
   ]
  },
  {
   "cell_type": "markdown",
   "id": "7f68c230",
   "metadata": {},
   "source": [
    "De manière générale, il est recommandé de bien parenthéser ses expressions. De plus, les parenthèses facilitent la lecture d'expressions complexes.\n",
    "\n",
    "Par exemple, il vaut mieux écrire ce qui suit, qui est équivalent mais plus lisible :"
   ]
  },
  {
   "cell_type": "code",
   "execution_count": null,
   "id": "d9da038a",
   "metadata": {},
   "outputs": [],
   "source": [
    "(2 * 30) + (10 * 5)"
   ]
  },
  {
   "cell_type": "markdown",
   "id": "15b82c26",
   "metadata": {},
   "source": [
    "Attention, en Python3 la division `/` est la division usuelle, qui renvoie un flottant :"
   ]
  },
  {
   "cell_type": "code",
   "execution_count": null,
   "id": "15914ef5",
   "metadata": {},
   "outputs": [],
   "source": [
    "48 / 5"
   ]
  },
  {
   "cell_type": "markdown",
   "id": "e080d888",
   "metadata": {},
   "source": [
    "Rappelez-vous des opérateurs suivants qui sont très pratiques :\n",
    "\n",
    "| code | opération |\n",
    "|-----:|----------:|\n",
    "| `//` | quotient  |\n",
    "| `%`  | modulo    |\n",
    "| `**` | puissance |"
   ]
  },
  {
   "cell_type": "code",
   "execution_count": null,
   "id": "5a7372c2",
   "metadata": {},
   "outputs": [],
   "source": [
    "# calculer un quotient\n",
    "48 // 5"
   ]
  },
  {
   "cell_type": "code",
   "execution_count": null,
   "id": "43392d47",
   "metadata": {},
   "outputs": [],
   "source": [
    "# modulo (le reste de la division par)\n",
    "48 % 5"
   ]
  },
  {
   "cell_type": "code",
   "execution_count": null,
   "id": "48e1b111",
   "metadata": {},
   "outputs": [],
   "source": [
    "# puissance\n",
    "2 ** 10"
   ]
  },
  {
   "cell_type": "markdown",
   "id": "036405ce",
   "metadata": {},
   "source": [
    "Vous pouvez facilement faire aussi des calculs sur les complexes. Souvenez-vous seulement que la constante complexe que nous notons `i` en français se note `j` en Python, ce choix a été fait par [le BDFL](https://fr.wikipedia.org/wiki/Benevolent_Dictator_for_Life) - alias Guido van Rossum - pour des raisons de lisibilité :"
   ]
  },
  {
   "cell_type": "code",
   "execution_count": null,
   "id": "81a49a14",
   "metadata": {},
   "outputs": [],
   "source": [
    "# multiplication de deux nombres complexes\n",
    "(2 + 3j) * 2.5j"
   ]
  },
  {
   "cell_type": "markdown",
   "id": "2c821184",
   "metadata": {},
   "source": [
    "Aussi, pour entrer ce nombre complexe `j`, il faut toujours le faire précéder d'un nombre, donc ne pas entrer simplement `j` (qui serait compris comme un nom de variable, nous allons voir ça tout de suite) mais plutôt `1j` ou encore `1.j`, comme ceci :"
   ]
  },
  {
   "cell_type": "code",
   "execution_count": null,
   "id": "d3bb68a8",
   "metadata": {},
   "outputs": [],
   "source": [
    "1j * 1.j"
   ]
  },
  {
   "cell_type": "markdown",
   "id": "b97e25b2",
   "metadata": {},
   "source": [
    "### Utiliser des variables"
   ]
  },
  {
   "cell_type": "markdown",
   "id": "66bea7d3",
   "metadata": {},
   "source": [
    "Il peut être utile de stocker un résultat qui sera utilisé plus tard, ou de définir une valeur constante. Pour cela on utilise tout simplement une affectation comme ceci :"
   ]
  },
  {
   "cell_type": "code",
   "execution_count": null,
   "id": "e404bcd8",
   "metadata": {},
   "outputs": [],
   "source": [
    "# pour définir une variable il suffit de lui assigner une valeur\n",
    "largeur = 5"
   ]
  },
  {
   "cell_type": "code",
   "execution_count": null,
   "id": "1f052e77",
   "metadata": {},
   "outputs": [],
   "source": [
    "# une fois la variable définie, on peut l'utiliser, ici comme un nombre\n",
    "largeur * 20"
   ]
  },
  {
   "cell_type": "code",
   "execution_count": null,
   "id": "1b18136d",
   "metadata": {},
   "outputs": [],
   "source": [
    "# après quoi bien sûr la variable reste inchangée\n",
    "largeur * 10"
   ]
  },
  {
   "cell_type": "markdown",
   "id": "dedd04c8",
   "metadata": {},
   "source": [
    "Pour les symboles mathématiques, on peut utiliser la même technique :"
   ]
  },
  {
   "cell_type": "code",
   "execution_count": null,
   "id": "5f8d8cf7",
   "metadata": {},
   "outputs": [],
   "source": [
    "# pour définir un réel, on utilise le point au lieu d'une virgule en français\n",
    "pi = 3.14159\n",
    "2 * pi * 10"
   ]
  },
  {
   "cell_type": "markdown",
   "id": "54837e3c",
   "metadata": {},
   "source": [
    "Pour les valeurs spéciales comme $\\pi$, on peut utiliser les valeurs prédéfinies par la bibliothèque mathématique de Python. En anticipant un peu sur la notion d'importation que nous approfondirons plus tard, on peut écrire :"
   ]
  },
  {
   "cell_type": "code",
   "execution_count": null,
   "id": "d97b1e80",
   "metadata": {},
   "outputs": [],
   "source": [
    "from math import e, pi"
   ]
  },
  {
   "cell_type": "markdown",
   "id": "bef127ca",
   "metadata": {},
   "source": [
    "Et ainsi imprimer les racines troisièmes de l'unité par la formule :\n",
    "\n",
    "$r_n = e^{2i\\pi \\frac{n}{3}},$ pour $n\\in \\{0,1,2\\}$"
   ]
  },
  {
   "cell_type": "code",
   "execution_count": null,
   "id": "c9b3a367",
   "metadata": {},
   "outputs": [],
   "source": [
    "n = 0\n",
    "print(\"n=\", n, \"racine = \", e**((2.j*pi*n)/3))\n",
    "n = 1\n",
    "print(\"n=\", n, \"racine = \", e**((2.j*pi*n)/3))\n",
    "n = 2\n",
    "print(\"n=\", n, \"racine = \", e**((2.j*pi*n)/3))"
   ]
  },
  {
   "cell_type": "markdown",
   "id": "6fc0f9ac",
   "metadata": {},
   "source": [
    "**Remarque :** bien entendu il sera possible de faire ceci plus simplement lorsque nous aurons vu les boucles `for`."
   ]
  },
  {
   "cell_type": "markdown",
   "id": "048789eb",
   "metadata": {},
   "source": [
    "### Les types"
   ]
  },
  {
   "cell_type": "markdown",
   "id": "bea24478",
   "metadata": {},
   "source": [
    "Ce qui change par rapport à une calculatrice standard est le fait que les valeurs sont typées. Pour illustrer les trois types de nombres que nous avons vus jusqu'ici :"
   ]
  },
  {
   "cell_type": "code",
   "execution_count": null,
   "id": "edeaad6d",
   "metadata": {},
   "outputs": [],
   "source": [
    "# le type entier s'appelle 'int'\n",
    "type(3)"
   ]
  },
  {
   "cell_type": "code",
   "execution_count": null,
   "id": "e7be6377",
   "metadata": {},
   "outputs": [],
   "source": [
    "# le type flottant s'appelle 'float'\n",
    "type(3.5)"
   ]
  },
  {
   "cell_type": "code",
   "execution_count": null,
   "id": "09e1fe22",
   "metadata": {},
   "outputs": [],
   "source": [
    "# le type complexe s'appelle 'complex'\n",
    "type(1j)"
   ]
  },
  {
   "cell_type": "markdown",
   "id": "09090614",
   "metadata": {},
   "source": [
    "### Chaînes de caractères"
   ]
  },
  {
   "cell_type": "markdown",
   "id": "5355758a",
   "metadata": {},
   "source": [
    "On a également rapidement besoin de chaînes de caractères, on les étudiera bientôt en détail, mais en guise d'avant-goût :"
   ]
  },
  {
   "cell_type": "code",
   "execution_count": null,
   "id": "566835c6",
   "metadata": {},
   "outputs": [],
   "source": [
    "chaine = \"Bonjour le monde !\"\n",
    "print(chaine)"
   ]
  },
  {
   "cell_type": "markdown",
   "id": "aa64483f",
   "metadata": {},
   "source": [
    "### Conversions"
   ]
  },
  {
   "cell_type": "markdown",
   "id": "2aad17d4",
   "metadata": {},
   "source": [
    "Il est parfois nécessaire de convertir une donnée d'un type dans un autre.\n",
    "Par exemple on peut demander à l'utilisateur d'entrer une valeur au clavier grâce à la fonction `input`, comme ceci :"
   ]
  },
  {
   "cell_type": "code",
   "execution_count": null,
   "id": "228f4e4f",
   "metadata": {},
   "outputs": [],
   "source": [
    "reponse = input(\"quel est votre âge ? \")"
   ]
  },
  {
   "cell_type": "code",
   "execution_count": null,
   "id": "24384289",
   "metadata": {},
   "outputs": [],
   "source": [
    "# vous avez entré la chaîne suivante\n",
    "print(reponse)"
   ]
  },
  {
   "cell_type": "code",
   "execution_count": null,
   "id": "46abeacf",
   "metadata": {},
   "outputs": [],
   "source": [
    "# ici reponse est une variable, et son contenu est de type chaîne de caractères\n",
    "type(reponse)"
   ]
  },
  {
   "cell_type": "markdown",
   "id": "5bad8b56",
   "metadata": {},
   "source": [
    "Maintenant je veux faire des calculs sur votre âge, par exemple le multiplier par 2. Si je m'y prends naïvement, ça donne ceci :"
   ]
  },
  {
   "cell_type": "code",
   "execution_count": null,
   "id": "183c764d",
   "metadata": {},
   "outputs": [],
   "source": [
    "# multiplier une chaîne de caractères par deux ne fait pas ce que l'on veut,\n",
    "# nous verrons plus tard que ça fait une concaténation\n",
    "2 * reponse"
   ]
  },
  {
   "cell_type": "markdown",
   "id": "cabd9858",
   "metadata": {},
   "source": [
    "C'est pourquoi il me faut ici d'abord **convertir** la (valeur de la) variable `reponse` en un entier, que je peux ensuite doubler (assurez-vous d'avoir bien entré ci-dessus une valeur qui correspond à un nombre entier)"
   ]
  },
  {
   "cell_type": "code",
   "execution_count": null,
   "id": "1d82d03f",
   "metadata": {},
   "outputs": [],
   "source": [
    "# reponse est une chaine\n",
    "# je la convertis en entier en appelant la fonction int()\n",
    "age = int(reponse)\n",
    "type(age)"
   ]
  },
  {
   "cell_type": "code",
   "execution_count": null,
   "id": "44554212",
   "metadata": {},
   "outputs": [],
   "source": [
    "# que je peux maintenant multiplier par 2\n",
    "2 * age"
   ]
  },
  {
   "cell_type": "markdown",
   "id": "3064e6d6",
   "metadata": {},
   "source": [
    "Ou si on préfère, en une seule fois :"
   ]
  },
  {
   "cell_type": "code",
   "execution_count": null,
   "id": "12010a2f",
   "metadata": {},
   "outputs": [],
   "source": [
    "print(\"le double de votre age est\", 2*int(reponse))"
   ]
  },
  {
   "cell_type": "markdown",
   "id": "1dd239b4",
   "metadata": {},
   "source": [
    "### Conversions - suite"
   ]
  },
  {
   "cell_type": "markdown",
   "id": "cc30a031",
   "metadata": {},
   "source": [
    "De manière plus générale, pour convertir un objet en un entier, un flottant, ou une chaîne de caractères, on peut simplement appeler une fonction *built-in* qui porte le même nom que le type cible :\n",
    "\n",
    "| Type     | Fonction  |\n",
    "|---------:|----------:|\n",
    "| Entier   | `int`     |\n",
    "| Flottant | `float`   |\n",
    "| Complexe | `complex` |\n",
    "| Chaîne   | `str`     |\n",
    "\n",
    "Ainsi dans l'exemple précédent, `int(reponse)` représente la conversion de `reponse` en entier.\n",
    "\n",
    "On a illustré cette même technique dans les exemples suivants :"
   ]
  },
  {
   "cell_type": "code",
   "execution_count": null,
   "id": "d36601f2",
   "metadata": {},
   "outputs": [],
   "source": [
    "# dans l'autre sens, si j'ai un entier\n",
    "a = 2345"
   ]
  },
  {
   "cell_type": "code",
   "execution_count": null,
   "id": "fcc0a46b",
   "metadata": {},
   "outputs": [],
   "source": [
    "# je peux facilement le traduire en chaîne de caractères\n",
    "str(2345)"
   ]
  },
  {
   "cell_type": "code",
   "execution_count": null,
   "id": "c0cab8e4",
   "metadata": {},
   "outputs": [],
   "source": [
    "# ou en complexe\n",
    "complex(2345)"
   ]
  },
  {
   "cell_type": "markdown",
   "id": "0431a7ce",
   "metadata": {},
   "source": [
    "Nous verrons plus tard que ceci se généralise à tous les types de Python, pour convertir un objet `x` en un type `bidule`, on appelle `bidule(x)`. On y reviendra, bien entendu."
   ]
  },
  {
   "cell_type": "markdown",
   "id": "ebb5ccae",
   "metadata": {},
   "source": [
    "### Grands nombres"
   ]
  },
  {
   "cell_type": "markdown",
   "id": "168c2b8a",
   "metadata": {},
   "source": [
    "Comme les entiers sont de précision illimitée, on peut améliorer leur lisibilité en insérant des caractères `_` qui sont simplement ignorés à l'exécution."
   ]
  },
  {
   "cell_type": "code",
   "execution_count": null,
   "id": "940254e7",
   "metadata": {},
   "outputs": [],
   "source": [
    "tres_grand_nombre = 23_456_789_012_345\n",
    "\n",
    "tres_grand_nombre"
   ]
  },
  {
   "cell_type": "code",
   "execution_count": null,
   "id": "22395c0d",
   "metadata": {},
   "outputs": [],
   "source": [
    "# ça marche aussi avec les flottants\n",
    "123_456.789_012"
   ]
  },
  {
   "cell_type": "markdown",
   "id": "90f37978",
   "metadata": {},
   "source": [
    "### Entiers et bases"
   ]
  },
  {
   "cell_type": "markdown",
   "id": "2db334ba",
   "metadata": {},
   "source": [
    "Les calculettes scientifiques permettent habituellement d'entrer les entiers dans d'autres bases que la base 10.\n",
    "\n",
    "En Python, on peut aussi entrer un entier sous forme binaire comme ceci :"
   ]
  },
  {
   "cell_type": "code",
   "execution_count": null,
   "id": "0f28db64",
   "metadata": {},
   "outputs": [],
   "source": [
    "deux_cents = 0b11001000\n",
    "print(deux_cents)"
   ]
  },
  {
   "cell_type": "markdown",
   "id": "78280cd2",
   "metadata": {},
   "source": [
    "Ou encore sous forme octale (en base 8) comme ceci :"
   ]
  },
  {
   "cell_type": "code",
   "execution_count": null,
   "id": "2a328c31",
   "metadata": {},
   "outputs": [],
   "source": [
    "deux_cents = 0o310\n",
    "print(deux_cents)"
   ]
  },
  {
   "cell_type": "markdown",
   "id": "3289090e",
   "metadata": {},
   "source": [
    "Ou enfin encore en hexadécimal (base 16) comme ceci :"
   ]
  },
  {
   "cell_type": "code",
   "execution_count": null,
   "id": "92239439",
   "metadata": {},
   "outputs": [],
   "source": [
    "deux_cents = 0xc8\n",
    "print(deux_cents)"
   ]
  },
  {
   "cell_type": "markdown",
   "id": "d919d369",
   "metadata": {},
   "source": [
    "Pour d'autres bases, on peut utiliser la fonction de conversion `int` en lui passant un argument supplémentaire :"
   ]
  },
  {
   "cell_type": "code",
   "execution_count": null,
   "id": "06504a09",
   "metadata": {},
   "outputs": [],
   "source": [
    "deux_cents = int('3020', 4)\n",
    "print(deux_cents)"
   ]
  },
  {
   "cell_type": "markdown",
   "id": "eb8fce9e",
   "metadata": {},
   "source": [
    "### Fonctions mathématiques"
   ]
  },
  {
   "cell_type": "markdown",
   "id": "abd31056",
   "metadata": {},
   "source": [
    "Python fournit naturellement un ensemble très complet d'opérateurs mathématiques pour les fonctions exponentielles, trigonométriques et autres, mais leur utilisation ne nous est pas encore accessible à ce stade et nous les verrons ultérieurement."
   ]
  }
 ],
 "metadata": {
  "jupytext": {
   "cell_metadata_filter": "all, -hidden, -heading_collapsed, -run_control, -trusted",
   "notebook_metadata_filter": "all, -jupytext.text_representation.jupytext_version, -jupytext.text_representation.format_version, -language_info.version, -language_info.codemirror_mode.version, -language_info.codemirror_mode, -language_info.file_extension, -language_info.mimetype, -toc",
   "text_representation": {
    "extension": ".md",
    "format_name": "myst"
   }
  },
  "kernelspec": {
   "display_name": "Python 3 (ipykernel)",
   "language": "python",
   "name": "python3"
  },
  "language_info": {
   "name": "python",
   "nbconvert_exporter": "python",
   "pygments_lexer": "ipython3"
  },
  "nbhosting": {
   "title": "Une calculette"
  }
 },
 "nbformat": 4,
 "nbformat_minor": 5
}

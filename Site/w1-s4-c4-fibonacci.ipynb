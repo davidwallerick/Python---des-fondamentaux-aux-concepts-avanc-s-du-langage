{
 "cells": [
  {
   "cell_type": "markdown",
   "id": "e00e9ee7",
   "metadata": {},
   "source": [
    "<div class=\"licence\">\n",
    "<span>Licence CC BY-NC-ND</span>\n",
    "<span>Thierry Parmentelat &amp; Arnaud Legout</span>\n",
    "<span><img src=\"media/both-logos-small-alpha.png\" /></span>\n",
    "</div>"
   ]
  },
  {
   "cell_type": "markdown",
   "id": "de5932e8",
   "metadata": {},
   "source": [
    "# La suite de Fibonacci (version pour terminal)"
   ]
  },
  {
   "cell_type": "markdown",
   "id": "b4e1484e",
   "metadata": {},
   "source": [
    "## Complément - niveau intermédiaire"
   ]
  },
  {
   "cell_type": "markdown",
   "id": "25bcb078",
   "metadata": {},
   "source": [
    "Nous reprenons le cas de la fonction `fibonacci` que nous avons déjà vue, mais cette fois nous voulons que l'utilisateur puisse indiquer l'entier en entrée de l'algorithme, non plus en répondant à une question, mais sur la ligne de commande, c'est-à-dire en tapant :\n",
    "\n",
    "```bash\n",
    "$ python3 fibonacci.py 12\n",
    "```"
   ]
  },
  {
   "cell_type": "markdown",
   "id": "6b8b92d0",
   "metadata": {},
   "source": [
    "**Avertissement&nbsp;:**\n",
    "\n",
    "Attention, cette version-ci **ne fonctionne pas dans ce notebook**, justement car on n'a pas de moyen dans un notebook d'invoquer un programme en lui passant des arguments de cette façon. Ce notebook est rédigé pour vous permettre de vous entraîner avec la fonction de téléchargement au format Python, qu'on a vue dans la vidéo, et de faire tourner ce programme sur votre propre ordinateur."
   ]
  },
  {
   "cell_type": "markdown",
   "id": "0883a924",
   "metadata": {},
   "source": [
    "### Le module `argparse`"
   ]
  },
  {
   "cell_type": "markdown",
   "id": "09b7fe9f",
   "metadata": {},
   "source": [
    "Cette fois nous importons le module `argparse`, c'est lui qui va nous permettre d'interpréter les arguments passés sur la ligne de commande."
   ]
  },
  {
   "cell_type": "code",
   "execution_count": null,
   "id": "8a4be5eb",
   "metadata": {},
   "outputs": [],
   "source": [
    "from argparse import ArgumentParser"
   ]
  },
  {
   "cell_type": "markdown",
   "id": "833a015d",
   "metadata": {},
   "source": [
    "Puis nous répétons la fonction `fibonacci` :"
   ]
  },
  {
   "cell_type": "code",
   "execution_count": null,
   "id": "e3802d03",
   "metadata": {},
   "outputs": [],
   "source": [
    "def fibonacci(n):\n",
    "    \"retourne le nombre de fibonacci pour l'entier n\"\n",
    "    # pour les deux premières valeurs de n, on peut renvoyer n\n",
    "    if n <= 1:\n",
    "        return n\n",
    "    # sinon on initialise f2 pour n-2 et f1 pour n-1\n",
    "    f2, f1 = 0, 1\n",
    "    # et on itère n-1 fois pour additionner\n",
    "    for i in range(2, n + 1):\n",
    "        f2, f1 = f1, f1 + f2\n",
    "#        print(i, f2, f1)\n",
    "    # le résultat est dans f1\n",
    "    return f1"
   ]
  },
  {
   "cell_type": "markdown",
   "id": "cd863629",
   "metadata": {},
   "source": [
    "*Remarque :*\n",
    "\n",
    "Certains d'entre vous auront évidemment remarqué que l'on aurait pu éviter de copier-coller la fonction `fibonacci` comme cela&nbsp;; c'est à ça que servent les modules, mais nous n'en sommes pas là."
   ]
  },
  {
   "cell_type": "markdown",
   "id": "9fd1833b",
   "metadata": {},
   "source": [
    "### Un objet `parser`"
   ]
  },
  {
   "cell_type": "markdown",
   "id": "91bbe152",
   "metadata": {},
   "source": [
    "À présent, nous utilisons le module `argparse`, pour lui dire qu'on attend exactement un argument sur la ligne de commande, et qu'il doit être un entier. Ici encore, ne vous inquiétez pas si vous ne comprenez pas tout le code. L'objectif est de vous donner un morceau de code utilisable tout de suite, pour jouer avec votre interpréteur Python."
   ]
  },
  {
   "cell_type": "code",
   "execution_count": null,
   "id": "b974c229",
   "metadata": {},
   "outputs": [],
   "source": [
    "# à nouveau : ceci n'est pas conçu pour être exécuté dans le notebook !\n",
    "parser = ArgumentParser()\n",
    "parser.add_argument(dest=\"entier\", type=int,\n",
    "                    help=\"entier d'entrée\")\n",
    "input_args = parser.parse_args()\n",
    "entier = input_args.entier"
   ]
  },
  {
   "cell_type": "markdown",
   "id": "868d130b",
   "metadata": {},
   "source": [
    "Nous pouvons à présent afficher le résultat :"
   ]
  },
  {
   "cell_type": "code",
   "execution_count": null,
   "id": "04400209",
   "metadata": {},
   "outputs": [],
   "source": [
    "print(f\"fibonacci({entier}) = {fibonacci(entier)}\")"
   ]
  },
  {
   "cell_type": "markdown",
   "id": "adcee841",
   "metadata": {},
   "source": [
    "Vous pouvez donc à présent :\n",
    "\n",
    "* télécharger ce code sur votre disque comme un fichier `fibonacci.py` en utilisant le menu *\"File -> Download as -> Python\"*\n",
    "* l'exécuter avec simplement l'interpréteur Python comme ceci :\n",
    "\n",
    "\n",
    "```bash\n",
    "$ python3 fibonacci.py 56\n",
    "```\n",
    "\n",
    "(sans taper le signe `$` qui indique simplement le prompt du terminal.)"
   ]
  }
 ],
 "metadata": {
  "jupytext": {
   "cell_metadata_filter": "all, -hidden, -heading_collapsed, -run_control, -trusted",
   "notebook_metadata_filter": "all, -jupytext.text_representation.jupytext_version, -jupytext.text_representation.format_version, -language_info.version, -language_info.codemirror_mode.version, -language_info.codemirror_mode, -language_info.file_extension, -language_info.mimetype, -toc",
   "text_representation": {
    "extension": ".md",
    "format_name": "myst"
   }
  },
  "kernelspec": {
   "display_name": "Python 3 (ipykernel)",
   "language": "python",
   "name": "python3"
  },
  "language_info": {
   "name": "python",
   "nbconvert_exporter": "python",
   "pygments_lexer": "ipython3"
  },
  "nbhosting": {
   "title": "Fibonacci (suite)"
  }
 },
 "nbformat": 4,
 "nbformat_minor": 5
}

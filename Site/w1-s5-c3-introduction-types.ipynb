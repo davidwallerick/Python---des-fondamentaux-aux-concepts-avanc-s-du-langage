{
 "cells": [
  {
   "cell_type": "markdown",
   "id": "802f24fb",
   "metadata": {},
   "source": [
    "<div class=\"licence\">\n",
    "<span>Licence CC BY-NC-ND</span>\n",
    "<span>Thierry Parmentelat &amp; Arnaud Legout</span>\n",
    "<span><img src=\"media/both-logos-small-alpha.png\" /></span>\n",
    "</div>"
   ]
  },
  {
   "cell_type": "markdown",
   "id": "5537a71d",
   "metadata": {},
   "source": [
    "# Un peu de calcul sur les types"
   ]
  },
  {
   "cell_type": "markdown",
   "id": "021c1f7f",
   "metadata": {},
   "source": [
    "## Complément - niveau basique"
   ]
  },
  {
   "cell_type": "markdown",
   "id": "76a90eac",
   "metadata": {},
   "source": [
    "### La fonction `type`"
   ]
  },
  {
   "cell_type": "markdown",
   "id": "1d5c7c97",
   "metadata": {},
   "source": [
    "Nous avons vu dans la vidéo que chaque objet possède un type. On peut très simplement accéder au type d'un objet en appelant une fonction *built-in*, c'est-à-dire prédéfinie dans Python, qui s'appelle, eh bien oui, `type`."
   ]
  },
  {
   "cell_type": "markdown",
   "id": "2e09ad83",
   "metadata": {},
   "source": [
    "On l'utilise tout simplement comme ceci :"
   ]
  },
  {
   "cell_type": "code",
   "execution_count": null,
   "id": "939c2fd8",
   "metadata": {
    "cell_style": "split"
   },
   "outputs": [],
   "source": [
    "type(1)"
   ]
  },
  {
   "cell_type": "code",
   "execution_count": null,
   "id": "ad400f99",
   "metadata": {
    "cell_style": "split"
   },
   "outputs": [],
   "source": [
    "type('spam')"
   ]
  },
  {
   "cell_type": "markdown",
   "id": "8e74342e",
   "metadata": {},
   "source": [
    "Cette fonction est assez peu utilisée par les programmeurs expérimentés, mais va nous être utile à bien comprendre le langage, notamment pour manipuler les valeurs numériques."
   ]
  },
  {
   "cell_type": "markdown",
   "id": "8022e58e",
   "metadata": {},
   "source": [
    "### Types, variables et objets"
   ]
  },
  {
   "cell_type": "markdown",
   "id": "2a39d9ed",
   "metadata": {},
   "source": [
    "On a vu également que le type est attaché **à l'objet** et non à la variable."
   ]
  },
  {
   "cell_type": "code",
   "execution_count": null,
   "id": "dcef8fb4",
   "metadata": {
    "cell_style": "split"
   },
   "outputs": [],
   "source": [
    "x = 1\n",
    "type(x)"
   ]
  },
  {
   "cell_type": "code",
   "execution_count": null,
   "id": "6d70d672",
   "metadata": {
    "cell_style": "split"
   },
   "outputs": [],
   "source": [
    "# la variable x peut référencer un objet de n'importe quel type\n",
    "\n",
    "x = [1, 2, 3]\n",
    "type(x)"
   ]
  },
  {
   "cell_type": "markdown",
   "id": "ccd97669",
   "metadata": {},
   "source": [
    "## Complément - niveau avancé"
   ]
  },
  {
   "cell_type": "markdown",
   "id": "8f5843ca",
   "metadata": {},
   "source": [
    "### La fonction `isinstance`"
   ]
  },
  {
   "cell_type": "markdown",
   "id": "20cf0c01",
   "metadata": {},
   "source": [
    "Une autre fonction prédéfinie, voisine de `type` mais plus utile dans la pratique, est la fonction `isinstance` qui permet de savoir si un objet est d'un type donné. Par exemple :"
   ]
  },
  {
   "cell_type": "code",
   "execution_count": null,
   "id": "a7e7019a",
   "metadata": {},
   "outputs": [],
   "source": [
    "isinstance(23, int)"
   ]
  },
  {
   "cell_type": "markdown",
   "id": "9ae8e70c",
   "metadata": {},
   "source": [
    "À la vue de ce seul exemple, on pourrait penser que `isinstance` est presque identique à `type`&nbsp;; en réalité elle est un peu plus élaborée, notamment pour la programmation objet et l'héritage, nous aurons l'occasion d'y revenir."
   ]
  },
  {
   "cell_type": "markdown",
   "id": "88522b19",
   "metadata": {},
   "source": [
    "On remarque ici en passant que la variable `int` est connue de Python alors que nous ne l'avons pas définie. Il s'agit d'une variable prédéfinie, qui désigne le type des entiers, que nous étudierons très bientôt."
   ]
  },
  {
   "cell_type": "markdown",
   "id": "ef4e3098",
   "metadata": {},
   "source": [
    "Pour conclure sur `isinstance`, cette fonction est utile en pratique précisément parce que Python est à typage dynamique. Aussi il est souvent utile de s'assurer qu'une variable passée à une fonction est du (ou des) type(s) attendu(s), puisque contrairement à un langage typé statiquement comme C++, on n'a aucune garantie de ce genre à l'exécution. À nouveau, nous aurons l'occasion de revenir sur ce point."
   ]
  }
 ],
 "metadata": {
  "jupytext": {
   "cell_metadata_filter": "all, -hidden, -heading_collapsed, -run_control, -trusted",
   "notebook_metadata_filter": "all, -jupytext.text_representation.jupytext_version, -jupytext.text_representation.format_version, -language_info.version, -language_info.codemirror_mode.version, -language_info.codemirror_mode, -language_info.file_extension, -language_info.mimetype, -toc",
   "text_representation": {
    "extension": ".md",
    "format_name": "myst"
   }
  },
  "kernelspec": {
   "display_name": "Python 3 (ipykernel)",
   "language": "python",
   "name": "python3"
  },
  "language_info": {
   "name": "python",
   "nbconvert_exporter": "python",
   "pygments_lexer": "ipython3"
  },
  "nbhosting": {
   "title": "Intro. sur les types"
  }
 },
 "nbformat": 4,
 "nbformat_minor": 5
}
